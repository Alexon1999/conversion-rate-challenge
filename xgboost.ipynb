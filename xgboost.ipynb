{
 "cells": [
  {
   "cell_type": "code",
   "execution_count": 103,
   "metadata": {},
   "outputs": [],
   "source": [
    "import pandas as pd\n",
    "import numpy as np\n",
    "\n",
    "from sklearn.model_selection import train_test_split, cross_val_score\n",
    "from sklearn.compose import ColumnTransformer\n",
    "from sklearn.pipeline import Pipeline\n",
    "from sklearn.preprocessing import StandardScaler, OneHotEncoder, PolynomialFeatures\n",
    "from sklearn.impute import SimpleImputer, KNNImputer\n",
    "from sklearn.linear_model import LogisticRegression, SGDClassifier\n",
    "from sklearn.tree import DecisionTreeClassifier\n",
    "from sklearn.svm import SVC\n",
    "from sklearn.model_selection import GridSearchCV\n",
    "from sklearn.ensemble import BaggingClassifier, AdaBoostClassifier, GradientBoostingClassifier, VotingClassifier, StackingClassifier, RandomForestClassifier\n",
    "from xgboost import XGBClassifier\n",
    "from lightgbm import LGBMClassifier\n",
    "from sklearn.neighbors import KNeighborsClassifier\n",
    "from sklearn.metrics import f1_score, confusion_matrix, ConfusionMatrixDisplay, classification_report\n",
    "from sklearn.utils import resample\n",
    "import pickle\n",
    "import matplotlib.pyplot as plt\n",
    "import plotly.express as px\n",
    "import plotly.graph_objects as go\n",
    "import plotly.io as pio\n",
    "# setting Jedha color palette as default\n",
    "pio.templates[\"jedha\"] = go.layout.Template(\n",
    "    layout_colorway=[\"#4B9AC7\", \"#4BE8E0\", \"#9DD4F3\", \"#97FBF6\", \"#2A7FAF\", \"#23B1AB\", \"#0E3449\", \"#015955\"]\n",
    ")\n",
    "pio.templates.default = \"jedha\"\n",
    "pio.renderers.default = \"vscode\" # to be replaced by \"iframe\" if working on JULIE\n",
    "from IPython.display import display"
   ]
  },
  {
   "cell_type": "code",
   "execution_count": 104,
   "metadata": {},
   "outputs": [
    {
     "name": "stdout",
     "output_type": "stream",
     "text": [
      "Set with labels (our train+test) : (284580, 6)\n"
     ]
    }
   ],
   "source": [
    "data = pd.read_csv('data/conversion_data_train.csv')\n",
    "print('Set with labels (our train+test) :', data.shape)"
   ]
  },
  {
   "cell_type": "code",
   "execution_count": 82,
   "metadata": {},
   "outputs": [
    {
     "data": {
      "text/html": [
       "<div>\n",
       "<style scoped>\n",
       "    .dataframe tbody tr th:only-of-type {\n",
       "        vertical-align: middle;\n",
       "    }\n",
       "\n",
       "    .dataframe tbody tr th {\n",
       "        vertical-align: top;\n",
       "    }\n",
       "\n",
       "    .dataframe thead th {\n",
       "        text-align: right;\n",
       "    }\n",
       "</style>\n",
       "<table border=\"1\" class=\"dataframe\">\n",
       "  <thead>\n",
       "    <tr style=\"text-align: right;\">\n",
       "      <th></th>\n",
       "      <th>country</th>\n",
       "      <th>age</th>\n",
       "      <th>new_user</th>\n",
       "      <th>source</th>\n",
       "      <th>total_pages_visited</th>\n",
       "      <th>converted</th>\n",
       "    </tr>\n",
       "  </thead>\n",
       "  <tbody>\n",
       "    <tr>\n",
       "      <th>0</th>\n",
       "      <td>China</td>\n",
       "      <td>22</td>\n",
       "      <td>1</td>\n",
       "      <td>Direct</td>\n",
       "      <td>2</td>\n",
       "      <td>0</td>\n",
       "    </tr>\n",
       "    <tr>\n",
       "      <th>1</th>\n",
       "      <td>UK</td>\n",
       "      <td>21</td>\n",
       "      <td>1</td>\n",
       "      <td>Ads</td>\n",
       "      <td>3</td>\n",
       "      <td>0</td>\n",
       "    </tr>\n",
       "    <tr>\n",
       "      <th>2</th>\n",
       "      <td>Germany</td>\n",
       "      <td>20</td>\n",
       "      <td>0</td>\n",
       "      <td>Seo</td>\n",
       "      <td>14</td>\n",
       "      <td>1</td>\n",
       "    </tr>\n",
       "    <tr>\n",
       "      <th>3</th>\n",
       "      <td>US</td>\n",
       "      <td>23</td>\n",
       "      <td>1</td>\n",
       "      <td>Seo</td>\n",
       "      <td>3</td>\n",
       "      <td>0</td>\n",
       "    </tr>\n",
       "    <tr>\n",
       "      <th>4</th>\n",
       "      <td>US</td>\n",
       "      <td>28</td>\n",
       "      <td>1</td>\n",
       "      <td>Direct</td>\n",
       "      <td>3</td>\n",
       "      <td>0</td>\n",
       "    </tr>\n",
       "  </tbody>\n",
       "</table>\n",
       "</div>"
      ],
      "text/plain": [
       "   country  age  new_user  source  total_pages_visited  converted\n",
       "0    China   22         1  Direct                    2          0\n",
       "1       UK   21         1     Ads                    3          0\n",
       "2  Germany   20         0     Seo                   14          1\n",
       "3       US   23         1     Seo                    3          0\n",
       "4       US   28         1  Direct                    3          0"
      ]
     },
     "execution_count": 82,
     "metadata": {},
     "output_type": "execute_result"
    }
   ],
   "source": [
    "data.head()"
   ]
  },
  {
   "cell_type": "markdown",
   "metadata": {},
   "source": [
    "#### Resample imbalenced classes ( V34 )"
   ]
  },
  {
   "cell_type": "code",
   "execution_count": 83,
   "metadata": {},
   "outputs": [],
   "source": [
    "df_majority = data.loc[data['converted']==0]\n",
    "df_minority = data.loc[data['converted']==1]"
   ]
  },
  {
   "cell_type": "code",
   "execution_count": 84,
   "metadata": {},
   "outputs": [
    {
     "data": {
      "text/plain": [
       "((275400, 6), (9180, 6))"
      ]
     },
     "execution_count": 84,
     "metadata": {},
     "output_type": "execute_result"
    }
   ],
   "source": [
    "df_majority.shape, df_minority.shape"
   ]
  },
  {
   "cell_type": "code",
   "execution_count": 85,
   "metadata": {},
   "outputs": [],
   "source": [
    "df_majority = data.loc[data['converted']==0]\n",
    "df_minority = data.loc[data['converted']==1]\n",
    "\n",
    "# Upsample minority class\n",
    "df_minority_upsampled = resample(df_minority, \n",
    "                                 replace=True,     # sample with replacement\n",
    "                                 n_samples=150000,    # to match majority class\n",
    "                                 random_state=123) # reproducible results\n",
    " \n",
    "# Downsample majority class\n",
    "df_majority_downsampled = resample(df_majority, \n",
    "                                 replace=False,     # sample with replacement\n",
    "                                 n_samples=150000,    # to match majority class\n",
    "                                 random_state=123) # reproducible results"
   ]
  },
  {
   "cell_type": "code",
   "execution_count": 86,
   "metadata": {},
   "outputs": [
    {
     "data": {
      "text/plain": [
       "0    150000\n",
       "1    150000\n",
       "Name: converted, dtype: int64"
      ]
     },
     "execution_count": 86,
     "metadata": {},
     "output_type": "execute_result"
    }
   ],
   "source": [
    "# Combine majority class with upsampled minority class\n",
    "data = pd.concat([df_majority_downsampled, df_minority_upsampled])\n",
    "\n",
    "# Display new class counts\n",
    "data['converted'].value_counts()"
   ]
  },
  {
   "cell_type": "markdown",
   "metadata": {},
   "source": [
    "### Train and Test sets for models"
   ]
  },
  {
   "cell_type": "code",
   "execution_count": 105,
   "metadata": {},
   "outputs": [
    {
     "name": "stdout",
     "output_type": "stream",
     "text": [
      "Explanatory variables :  Index(['country', 'age', 'new_user', 'source', 'total_pages_visited'], dtype='object')\n",
      "Target variable : converted\n",
      "\n"
     ]
    }
   ],
   "source": [
    "target_variable = 'converted'\n",
    "\n",
    "X = data.drop(target_variable, axis=1)\n",
    "Y = data.loc[:, target_variable]\n",
    "\n",
    "print('Explanatory variables : ', X.columns)\n",
    "print('Target variable :', target_variable)\n",
    "print()"
   ]
  },
  {
   "cell_type": "code",
   "execution_count": 111,
   "metadata": {},
   "outputs": [
    {
     "name": "stdout",
     "output_type": "stream",
     "text": [
      "Dividing into train and test sets...\n",
      "...Done.\n",
      "\n"
     ]
    }
   ],
   "source": [
    "# Train set & Test set \n",
    "print(\"Dividing into train and test sets...\")\n",
    "X_train, X_test, Y_train, Y_test = train_test_split(X, Y, test_size=0.2, random_state=0, stratify=Y)\n",
    "print(\"...Done.\")\n",
    "print()"
   ]
  },
  {
   "cell_type": "markdown",
   "metadata": {},
   "source": [
    "## Preprocessing"
   ]
  },
  {
   "cell_type": "code",
   "execution_count": 112,
   "metadata": {},
   "outputs": [
    {
     "name": "stdout",
     "output_type": "stream",
     "text": [
      "Found numeric features  ['age', 'total_pages_visited']\n",
      "Found categorical features  ['new_user', 'country', 'source']\n"
     ]
    }
   ],
   "source": [
    "numeric_features = ['age', 'total_pages_visited']\n",
    "categorical_features = ['new_user', 'country', 'source']\n",
    "\n",
    "print('Found numeric features ', numeric_features)\n",
    "print('Found categorical features ', categorical_features)"
   ]
  },
  {
   "cell_type": "code",
   "execution_count": 113,
   "metadata": {},
   "outputs": [],
   "source": [
    "# Create pipeline for numeric features\n",
    "numeric_transformer = Pipeline(steps=[\n",
    "    ('imputer', KNNImputer()), \n",
    "    ('scaler', StandardScaler()),\n",
    "    #('polynomial', PolynomialFeatures())\n",
    "])\n",
    "\n",
    "# Create pipeline for categorical features\n",
    "categorical_transformer = Pipeline(\n",
    "    steps=[\n",
    "    ('imputer', SimpleImputer(strategy='most_frequent')), # missing values will be replaced by most frequent value\n",
    "    ('encoder', OneHotEncoder(drop='first')) # first column will be dropped to avoid creating correlations between features\n",
    "    ])\n",
    "\n",
    "# Use ColumnTransformer to make a preprocessor object that describes all the treatments to be done\n",
    "preprocessor = ColumnTransformer(\n",
    "    transformers=[\n",
    "        ('num', numeric_transformer, numeric_features),\n",
    "        ('cat', categorical_transformer, categorical_features)\n",
    "    ])"
   ]
  },
  {
   "cell_type": "code",
   "execution_count": 114,
   "metadata": {},
   "outputs": [
    {
     "name": "stdout",
     "output_type": "stream",
     "text": [
      "Performing preprocessings on train set...\n",
      "       country  age  new_user source  total_pages_visited\n",
      "162123      US   20         1    Ads                    4\n",
      "27065    China   29         1    Ads                    3\n",
      "70329       US   36         0    Seo                    3\n",
      "138712      US   23         1    Seo                    8\n",
      "104858      UK   41         1    Ads                    3\n",
      "...Done.\n",
      "[[-1.27650481 -0.2618471   1.          0.          0.          1.\n",
      "   0.          0.        ]\n",
      " [-0.18867057 -0.56090876  1.          0.          0.          0.\n",
      "   0.          0.        ]\n",
      " [ 0.65742272 -0.56090876  0.          0.          0.          1.\n",
      "   0.          1.        ]\n",
      " [-0.9138934   0.93439955  1.          0.          0.          1.\n",
      "   0.          1.        ]\n",
      " [ 1.26177508 -0.56090876  1.          0.          1.          0.\n",
      "   0.          0.        ]]\n",
      "\n",
      "Performing preprocessings on test set...\n",
      "       country  age  new_user  source  total_pages_visited\n",
      "249036      US   32         1     Seo                    4\n",
      "135422      UK   30         1     Seo                    5\n",
      "242216   China   31         1     Seo                    5\n",
      "209360      US   51         0     Seo                    5\n",
      "1486        US   20         1  Direct                    3\n",
      "...Done.\n",
      "[[ 0.17394084 -0.2618471   1.          0.          0.          1.\n",
      "   0.          1.        ]\n",
      " [-0.0678001   0.03721457  1.          0.          1.          0.\n",
      "   0.          1.        ]\n",
      " [ 0.05307037  0.03721457  1.          0.          0.          0.\n",
      "   0.          1.        ]\n",
      " [ 2.47047978  0.03721457  0.          0.          0.          1.\n",
      "   0.          1.        ]\n",
      " [-1.27650481 -0.56090876  1.          0.          0.          1.\n",
      "   1.          0.        ]]\n"
     ]
    }
   ],
   "source": [
    "# Preprocessings on train set\n",
    "print(\"Performing preprocessings on train set...\")\n",
    "print(X_train.head())\n",
    "X_train = preprocessor.fit_transform(X_train)\n",
    "print('...Done.')\n",
    "print(X_train[0:5]) \n",
    "print()\n",
    "\n",
    "# Preprocessings on test set\n",
    "print(\"Performing preprocessings on test set...\")\n",
    "print(X_test.head()) \n",
    "X_test = preprocessor.transform(X_test) # Don't fit again !! \n",
    "print('...Done.')\n",
    "print(X_test[0:5,:])"
   ]
  },
  {
   "cell_type": "markdown",
   "metadata": {},
   "source": [
    "## Performance assessment \n",
    "- f1_score, cross_val_score, confusion matrices, Feature Importance and Classification report"
   ]
  },
  {
   "cell_type": "code",
   "execution_count": 115,
   "metadata": {},
   "outputs": [],
   "source": [
    "def evaluate_performance(model):\n",
    "  Y_train_pred = model.predict(X_train)\n",
    "  Y_test_pred = model.predict(X_test)\n",
    "\n",
    "  # Here, the f1-score will be used to assess the performances on the leaderboard\n",
    "  print(model.__class__.__name__)\n",
    "  print(\"f1-score on train set : \", f1_score(Y_train, Y_train_pred))\n",
    "  print(\"f1-score on test set : \", f1_score(Y_test, Y_test_pred))\n",
    "  print()\n",
    "  \n",
    "  scores = cross_val_score(model, X_train, Y_train, cv=5, scoring='f1')\n",
    "  print('The cross-validated f1 score is : ', scores.mean())\n",
    "  print('The standard deviation is : ', scores.std())\n",
    "  print('is this model overfitting ? ', f1_score(Y_test, Y_test_pred) - f1_score(Y_train, Y_train_pred) > scores.std())\n",
    "\n",
    "  # Visualize confusion matrices\n",
    "  _, axes = plt.subplots(nrows=1, ncols=2, figsize=(10, 5))\n",
    "  axes[0].set(title=\"Confusion Matrix on Train set\") # Set a title that we will add into ConfusionMatrixDisplay\n",
    "  ConfusionMatrixDisplay.from_estimator(model, X_train, Y_train, ax=axes[0]) # ConfusionMatrixDisplay from sklearn\n",
    "\n",
    "  axes[1].set(title=\"Confusion Matrix on Test set\") # Set a title that we will add into ConfusionMatrixDisplay\n",
    "  ConfusionMatrixDisplay.from_estimator(model, X_test, Y_test, ax=axes[1]) # ConfusionMatrixDisplay from sklearn\n",
    "  plt.show()\n",
    "\n",
    "  # Feature Importance\n",
    "  # numeric_features +  encoded categorical column names\n",
    "  columns = np.append(numeric_features, preprocessor.transformers_[1][1]['encoder'].get_feature_names_out(categorical_features))\n",
    "  try:\n",
    "    coefs = pd.DataFrame(index=columns, data=model.coef_.transpose(), columns=['coefficients'] )\n",
    "    # Compute abs() and sort values\n",
    "    feature_importance = abs(coefs).sort_values(by = 'coefficients')\n",
    "    # Plot coefficients\n",
    "    fig = px.bar(feature_importance, orientation = 'h', title='Feature Importance')\n",
    "    fig.update_layout(showlegend = False, \n",
    "                      margin = {'l': 120} # to avoid cropping of column names\n",
    "                      )\n",
    "    fig.show()\n",
    "  except:\n",
    "    pass\n",
    "\n",
    "  # Classification report\n",
    "  print('classification_report on Train set')\n",
    "  print(classification_report(Y_train,Y_train_pred))\n",
    "  print('---')\n",
    "  print('classification_report on Test set')\n",
    "  print(classification_report(Y_test,Y_test_pred))"
   ]
  },
  {
   "cell_type": "code",
   "execution_count": 116,
   "metadata": {},
   "outputs": [],
   "source": [
    "def get_f1_score(model):\n",
    "  Y_train_pred = model.predict(X_train)\n",
    "  Y_test_pred = model.predict(X_test)\n",
    "\n",
    "  # Here, the f1-score will be used to assess the performances on the leaderboard\n",
    "  print(model.__class__.__name__)\n",
    "  print(\"f1-score on train set : \", f1_score(Y_train, Y_train_pred))\n",
    "  print(\"f1-score on test set : \", f1_score(Y_test, Y_test_pred))"
   ]
  },
  {
   "cell_type": "markdown",
   "metadata": {},
   "source": [
    "## Model"
   ]
  },
  {
   "cell_type": "markdown",
   "metadata": {},
   "source": [
    "#### **Bagging**"
   ]
  },
  {
   "cell_type": "markdown",
   "metadata": {},
   "source": [
    "##### XGBoost (with hyperparameter optimization)"
   ]
  },
  {
   "cell_type": "code",
   "execution_count": 122,
   "metadata": {},
   "outputs": [
    {
     "name": "stdout",
     "output_type": "stream",
     "text": [
      "Grid search...\n",
      "{'max_depth': [13, 14, 15], 'min_child_weight': [15, 20, 25], 'n_estimators': [8, 10, 12]}\n",
      "Fitting 3 folds for each of 27 candidates, totalling 81 fits\n",
      "[CV 1/3] END max_depth=13, min_child_weight=15, n_estimators=12;, score=0.751 total time=   0.6s\n",
      "[CV 2/3] END max_depth=13, min_child_weight=15, n_estimators=12;, score=0.764 total time=   0.6s\n",
      "[CV 3/3] END max_depth=13, min_child_weight=15, n_estimators=12;, score=0.761 total time=   0.6s\n",
      "[CV 1/3] END max_depth=13, min_child_weight=15, n_estimators=14;, score=0.754 total time=   0.7s\n",
      "[CV 2/3] END max_depth=13, min_child_weight=15, n_estimators=14;, score=0.764 total time=   0.6s\n",
      "[CV 3/3] END max_depth=13, min_child_weight=15, n_estimators=14;, score=0.760 total time=   0.7s\n",
      "[CV 1/3] END max_depth=13, min_child_weight=15, n_estimators=18;, score=0.750 total time=   0.9s\n",
      "[CV 2/3] END max_depth=13, min_child_weight=15, n_estimators=18;, score=0.766 total time=   0.9s\n",
      "[CV 3/3] END max_depth=13, min_child_weight=15, n_estimators=18;, score=0.760 total time=   1.0s\n",
      "[CV 1/3] END max_depth=13, min_child_weight=20, n_estimators=12;, score=0.751 total time=   0.7s\n",
      "[CV 2/3] END max_depth=13, min_child_weight=20, n_estimators=12;, score=0.765 total time=   0.6s\n",
      "[CV 3/3] END max_depth=13, min_child_weight=20, n_estimators=12;, score=0.762 total time=   0.5s\n",
      "[CV 1/3] END max_depth=13, min_child_weight=20, n_estimators=14;, score=0.754 total time=   0.7s\n",
      "[CV 2/3] END max_depth=13, min_child_weight=20, n_estimators=14;, score=0.766 total time=   0.7s\n",
      "[CV 3/3] END max_depth=13, min_child_weight=20, n_estimators=14;, score=0.761 total time=   0.6s\n",
      "[CV 1/3] END max_depth=13, min_child_weight=20, n_estimators=18;, score=0.753 total time=   0.8s\n",
      "[CV 2/3] END max_depth=13, min_child_weight=20, n_estimators=18;, score=0.763 total time=   0.8s\n",
      "[CV 3/3] END max_depth=13, min_child_weight=20, n_estimators=18;, score=0.762 total time=   0.8s\n",
      "[CV 1/3] END max_depth=13, min_child_weight=25, n_estimators=12;, score=0.751 total time=   0.6s\n",
      "[CV 2/3] END max_depth=13, min_child_weight=25, n_estimators=12;, score=0.764 total time=   0.6s\n",
      "[CV 3/3] END max_depth=13, min_child_weight=25, n_estimators=12;, score=0.763 total time=   0.5s\n",
      "[CV 1/3] END max_depth=13, min_child_weight=25, n_estimators=14;, score=0.752 total time=   0.6s\n",
      "[CV 2/3] END max_depth=13, min_child_weight=25, n_estimators=14;, score=0.764 total time=   0.6s\n",
      "[CV 3/3] END max_depth=13, min_child_weight=25, n_estimators=14;, score=0.764 total time=   0.6s\n",
      "[CV 1/3] END max_depth=13, min_child_weight=25, n_estimators=18;, score=0.755 total time=   0.8s\n",
      "[CV 2/3] END max_depth=13, min_child_weight=25, n_estimators=18;, score=0.764 total time=   0.8s\n",
      "[CV 3/3] END max_depth=13, min_child_weight=25, n_estimators=18;, score=0.763 total time=   0.8s\n",
      "[CV 1/3] END max_depth=14, min_child_weight=15, n_estimators=12;, score=0.751 total time=   0.6s\n",
      "[CV 2/3] END max_depth=14, min_child_weight=15, n_estimators=12;, score=0.764 total time=   0.6s\n",
      "[CV 3/3] END max_depth=14, min_child_weight=15, n_estimators=12;, score=0.762 total time=   0.6s\n",
      "[CV 1/3] END max_depth=14, min_child_weight=15, n_estimators=14;, score=0.752 total time=   0.7s\n",
      "[CV 2/3] END max_depth=14, min_child_weight=15, n_estimators=14;, score=0.763 total time=   0.7s\n",
      "[CV 3/3] END max_depth=14, min_child_weight=15, n_estimators=14;, score=0.761 total time=   0.9s\n",
      "[CV 1/3] END max_depth=14, min_child_weight=15, n_estimators=18;, score=0.752 total time=   1.0s\n",
      "[CV 2/3] END max_depth=14, min_child_weight=15, n_estimators=18;, score=0.763 total time=   0.9s\n",
      "[CV 3/3] END max_depth=14, min_child_weight=15, n_estimators=18;, score=0.759 total time=   1.0s\n",
      "[CV 1/3] END max_depth=14, min_child_weight=20, n_estimators=12;, score=0.752 total time=   0.5s\n",
      "[CV 2/3] END max_depth=14, min_child_weight=20, n_estimators=12;, score=0.764 total time=   0.6s\n",
      "[CV 3/3] END max_depth=14, min_child_weight=20, n_estimators=12;, score=0.761 total time=   0.6s\n",
      "[CV 1/3] END max_depth=14, min_child_weight=20, n_estimators=14;, score=0.755 total time=   0.7s\n",
      "[CV 2/3] END max_depth=14, min_child_weight=20, n_estimators=14;, score=0.766 total time=   0.6s\n",
      "[CV 3/3] END max_depth=14, min_child_weight=20, n_estimators=14;, score=0.761 total time=   0.6s\n",
      "[CV 1/3] END max_depth=14, min_child_weight=20, n_estimators=18;, score=0.753 total time=   0.9s\n",
      "[CV 2/3] END max_depth=14, min_child_weight=20, n_estimators=18;, score=0.762 total time=   0.8s\n",
      "[CV 3/3] END max_depth=14, min_child_weight=20, n_estimators=18;, score=0.762 total time=   0.8s\n",
      "[CV 1/3] END max_depth=14, min_child_weight=25, n_estimators=12;, score=0.751 total time=   0.5s\n",
      "[CV 2/3] END max_depth=14, min_child_weight=25, n_estimators=12;, score=0.764 total time=   0.5s\n",
      "[CV 3/3] END max_depth=14, min_child_weight=25, n_estimators=12;, score=0.763 total time=   0.5s\n",
      "[CV 1/3] END max_depth=14, min_child_weight=25, n_estimators=14;, score=0.752 total time=   0.6s\n",
      "[CV 2/3] END max_depth=14, min_child_weight=25, n_estimators=14;, score=0.764 total time=   0.6s\n",
      "[CV 3/3] END max_depth=14, min_child_weight=25, n_estimators=14;, score=0.764 total time=   0.6s\n",
      "[CV 1/3] END max_depth=14, min_child_weight=25, n_estimators=18;, score=0.754 total time=   0.8s\n",
      "[CV 2/3] END max_depth=14, min_child_weight=25, n_estimators=18;, score=0.767 total time=   0.8s\n",
      "[CV 3/3] END max_depth=14, min_child_weight=25, n_estimators=18;, score=0.764 total time=   1.0s\n",
      "[CV 1/3] END max_depth=15, min_child_weight=15, n_estimators=12;, score=0.751 total time=   0.6s\n",
      "[CV 2/3] END max_depth=15, min_child_weight=15, n_estimators=12;, score=0.764 total time=   0.6s\n",
      "[CV 3/3] END max_depth=15, min_child_weight=15, n_estimators=12;, score=0.761 total time=   0.6s\n",
      "[CV 1/3] END max_depth=15, min_child_weight=15, n_estimators=14;, score=0.752 total time=   0.7s\n",
      "[CV 2/3] END max_depth=15, min_child_weight=15, n_estimators=14;, score=0.764 total time=   0.7s\n",
      "[CV 3/3] END max_depth=15, min_child_weight=15, n_estimators=14;, score=0.761 total time=   0.7s\n",
      "[CV 1/3] END max_depth=15, min_child_weight=15, n_estimators=18;, score=0.751 total time=   1.2s\n",
      "[CV 2/3] END max_depth=15, min_child_weight=15, n_estimators=18;, score=0.763 total time=   0.9s\n",
      "[CV 3/3] END max_depth=15, min_child_weight=15, n_estimators=18;, score=0.762 total time=   0.9s\n",
      "[CV 1/3] END max_depth=15, min_child_weight=20, n_estimators=12;, score=0.752 total time=   0.6s\n",
      "[CV 2/3] END max_depth=15, min_child_weight=20, n_estimators=12;, score=0.764 total time=   0.5s\n",
      "[CV 3/3] END max_depth=15, min_child_weight=20, n_estimators=12;, score=0.761 total time=   0.6s\n",
      "[CV 1/3] END max_depth=15, min_child_weight=20, n_estimators=14;, score=0.754 total time=   0.7s\n",
      "[CV 2/3] END max_depth=15, min_child_weight=20, n_estimators=14;, score=0.765 total time=   0.6s\n",
      "[CV 3/3] END max_depth=15, min_child_weight=20, n_estimators=14;, score=0.760 total time=   0.7s\n",
      "[CV 1/3] END max_depth=15, min_child_weight=20, n_estimators=18;, score=0.753 total time=   0.9s\n",
      "[CV 2/3] END max_depth=15, min_child_weight=20, n_estimators=18;, score=0.763 total time=   0.8s\n",
      "[CV 3/3] END max_depth=15, min_child_weight=20, n_estimators=18;, score=0.761 total time=   0.9s\n",
      "[CV 1/3] END max_depth=15, min_child_weight=25, n_estimators=12;, score=0.751 total time=   0.5s\n",
      "[CV 2/3] END max_depth=15, min_child_weight=25, n_estimators=12;, score=0.764 total time=   0.5s\n",
      "[CV 3/3] END max_depth=15, min_child_weight=25, n_estimators=12;, score=0.763 total time=   0.5s\n",
      "[CV 1/3] END max_depth=15, min_child_weight=25, n_estimators=14;, score=0.752 total time=   0.6s\n",
      "[CV 2/3] END max_depth=15, min_child_weight=25, n_estimators=14;, score=0.764 total time=   0.7s\n",
      "[CV 3/3] END max_depth=15, min_child_weight=25, n_estimators=14;, score=0.764 total time=   0.6s\n",
      "[CV 1/3] END max_depth=15, min_child_weight=25, n_estimators=18;, score=0.755 total time=   0.9s\n",
      "[CV 2/3] END max_depth=15, min_child_weight=25, n_estimators=18;, score=0.766 total time=   0.9s\n",
      "[CV 3/3] END max_depth=15, min_child_weight=25, n_estimators=18;, score=0.763 total time=   0.9s\n",
      "...Done.\n",
      "\n",
      "GridSearchCV\n",
      "f1-score on train set :  0.768470693914215\n",
      "f1-score on test set :  0.76580373269115\n"
     ]
    }
   ],
   "source": [
    "# Perform grid search\n",
    "print(\"Grid search...\")\n",
    "xgboost = XGBClassifier()\n",
    "\n",
    "# Grid of values to be tested\n",
    "\n",
    "# on commence grand\n",
    "params1 = {\n",
    "    'max_depth': [10, 100, 1000],\n",
    "    'min_child_weight': [2, 20, 200],\n",
    "    'n_estimators': [1, 10, 100]\n",
    "}\n",
    "\n",
    "# on a réduit à \n",
    "params2 = {\n",
    "    # (V18)\n",
    "    'max_depth': [13, 14, 15],\n",
    "    'min_child_weight': [15, 20, 25],\n",
    "    'n_estimators': [8, 10, 12]\n",
    "}\n",
    "\n",
    "params3 = {\n",
    "    'max_depth': [2, 4, 8],\n",
    "    'min_child_weight': [2, 4, 6],\n",
    "    'n_estimators': [100, 1000]\n",
    "}\n",
    "\n",
    "params4 = {\n",
    "    'max_depth': [7,8,9],\n",
    "    'min_child_weight': [15, 20, 25],\n",
    "    'n_estimators': [8, 10, 12]\n",
    "}\n",
    "\n",
    "params5 = {\n",
    "    # (36)\n",
    "    'max_depth': [13, 14, 15],\n",
    "    'min_child_weight': [15, 20, 25],\n",
    "    'n_estimators': [12, 14, 18]\n",
    "}\n",
    "\n",
    "print(params2)\n",
    "xgboost_opt = GridSearchCV(xgboost, param_grid = params5, scoring='f1', cv = 3, verbose = 3) # cv : the number of folds to be used for CV\n",
    "xgboost_opt.fit(X_train, Y_train)\n",
    "print(\"...Done.\")\n",
    "print()\n",
    "get_f1_score(xgboost_opt)"
   ]
  },
  {
   "cell_type": "code",
   "execution_count": 123,
   "metadata": {},
   "outputs": [
    {
     "name": "stdout",
     "output_type": "stream",
     "text": [
      "Best hyperparameters :  {'max_depth': 15, 'min_child_weight': 25, 'n_estimators': 18}\n",
      "Best validation accuracy :  0.7615454074535064\n"
     ]
    }
   ],
   "source": [
    "print(\"Best hyperparameters : \", xgboost_opt.best_params_)\n",
    "print(\"Best validation accuracy : \", xgboost_opt.best_score_)"
   ]
  },
  {
   "cell_type": "code",
   "execution_count": 124,
   "metadata": {},
   "outputs": [
    {
     "name": "stdout",
     "output_type": "stream",
     "text": [
      "XGBClassifier\n",
      "f1-score on train set :  0.768470693914215\n",
      "f1-score on test set :  0.76580373269115\n",
      "\n",
      "The cross-validated f1 score is :  0.7591885162461932\n",
      "The standard deviation is :  0.006399139349645717\n",
      "is this model overfitting ?  False\n"
     ]
    },
    {
     "data": {
      "image/png": "[encoded data removed]",
      "text/plain": [
       "<Figure size 720x360 with 4 Axes>"
      ]
     },
     "metadata": {
      "needs_background": "light"
     },
     "output_type": "display_data"
    },
    {
     "name": "stdout",
     "output_type": "stream",
     "text": [
      "classification_report on Train set\n",
      "              precision    recall  f1-score   support\n",
      "\n",
      "           0       0.99      1.00      0.99    220320\n",
      "           1       0.85      0.70      0.77      7344\n",
      "\n",
      "    accuracy                           0.99    227664\n",
      "   macro avg       0.92      0.85      0.88    227664\n",
      "weighted avg       0.99      0.99      0.99    227664\n",
      "\n",
      "---\n",
      "classification_report on Test set\n",
      "              precision    recall  f1-score   support\n",
      "\n",
      "           0       0.99      1.00      0.99     55080\n",
      "           1       0.86      0.69      0.77      1836\n",
      "\n",
      "    accuracy                           0.99     56916\n",
      "   macro avg       0.92      0.84      0.88     56916\n",
      "weighted avg       0.99      0.99      0.99     56916\n",
      "\n"
     ]
    }
   ],
   "source": [
    "evaluate_performance(xgboost_opt.best_estimator_)"
   ]
  },
  {
   "cell_type": "markdown",
   "metadata": {},
   "source": [
    "## Submission"
   ]
  },
  {
   "cell_type": "code",
   "execution_count": 125,
   "metadata": {},
   "outputs": [],
   "source": [
    "def retrain_and_submit(model, version=1):\n",
    "  print(model)\n",
    "  # Concatenate our train and test set to train your best classifier on all data with labels\n",
    "  X = np.append(X_train,X_test,axis=0)\n",
    "  Y = np.append(Y_train,Y_test)\n",
    "\n",
    "  model.fit(X,Y)\n",
    "\n",
    "  # Read data without labels\n",
    "  data_without_labels = pd.read_csv('data/conversion_data_test.csv')\n",
    "  print('Prediction set (without labels) :', data_without_labels.shape)\n",
    "\n",
    "  # apply the preprocessing\n",
    "  X_without_labels = preprocessor.transform(data_without_labels)\n",
    "  data = {\n",
    "    'converted': model.predict(X_without_labels)\n",
    "  }\n",
    "\n",
    "  Y_predictions = pd.DataFrame(columns=['converted'],data=data)\n",
    "  Y_predictions.to_csv(f'submissions/conversion_data_test_predictions_Alexon_V{version}.csv', index=False)\n",
    "  print('Done ....')"
   ]
  },
  {
   "cell_type": "code",
   "execution_count": 15,
   "metadata": {},
   "outputs": [
    {
     "name": "stdout",
     "output_type": "stream",
     "text": [
      "XGBClassifier(base_score=0.5, booster='gbtree', callbacks=None,\n",
      "              colsample_bylevel=1, colsample_bynode=1, colsample_bytree=1,\n",
      "              early_stopping_rounds=None, enable_categorical=False,\n",
      "              eval_metric=None, gamma=0, gpu_id=-1, grow_policy='depthwise',\n",
      "              importance_type=None, interaction_constraints='',\n",
      "              learning_rate=0.300000012, max_bin=256, max_cat_to_onehot=4,\n",
      "              max_delta_step=0, max_depth=14, max_leaves=0, min_child_weight=20,\n",
      "              missing=nan, monotone_constraints='()', n_estimators=10, n_jobs=0,\n",
      "              num_parallel_tree=1, predictor='auto', random_state=0,\n",
      "              reg_alpha=0, reg_lambda=1, ...)\n",
      "Prediction set (without labels) : (31620, 5)\n",
      "Done ....\n"
     ]
    }
   ],
   "source": [
    "retrain_and_submit(xgboost_opt.best_estimator_, version=18)"
   ]
  },
  {
   "cell_type": "code",
   "execution_count": null,
   "metadata": {},
   "outputs": [],
   "source": [
    "pickle.dump(xgboost_opt.best_estimator_, open('models/xgboost_opt_v_18', 'wb'))"
   ]
  },
  {
   "cell_type": "code",
   "execution_count": null,
   "metadata": {},
   "outputs": [
    {
     "name": "stdout",
     "output_type": "stream",
     "text": [
      "XGBClassifier(base_score=0.5, booster='gbtree', callbacks=None,\n",
      "              colsample_bylevel=1, colsample_bynode=1, colsample_bytree=1,\n",
      "              early_stopping_rounds=None, enable_categorical=False,\n",
      "              eval_metric=None, gamma=0, gpu_id=-1, grow_policy='depthwise',\n",
      "              importance_type=None, interaction_constraints='',\n",
      "              learning_rate=0.300000012, max_bin=256, max_cat_to_onehot=4,\n",
      "              max_delta_step=0, max_depth=2, max_leaves=0, min_child_weight=6,\n",
      "              missing=nan, monotone_constraints='()', n_estimators=100,\n",
      "              n_jobs=0, num_parallel_tree=1, predictor='auto', random_state=0,\n",
      "              reg_alpha=0, reg_lambda=1, ...)\n",
      "Prediction set (without labels) : (31620, 5)\n",
      "Done ....\n"
     ]
    }
   ],
   "source": [
    "retrain_and_submit(xgboost_opt.best_estimator_, version=32)"
   ]
  },
  {
   "cell_type": "code",
   "execution_count": null,
   "metadata": {},
   "outputs": [
    {
     "name": "stdout",
     "output_type": "stream",
     "text": [
      "XGBClassifier(base_score=0.5, booster='gbtree', callbacks=None,\n",
      "              colsample_bylevel=1, colsample_bynode=1, colsample_bytree=1,\n",
      "              early_stopping_rounds=None, enable_categorical=False,\n",
      "              eval_metric=None, gamma=0, gpu_id=-1, grow_policy='depthwise',\n",
      "              importance_type=None, interaction_constraints='',\n",
      "              learning_rate=0.300000012, max_bin=256, max_cat_to_onehot=4,\n",
      "              max_delta_step=0, max_depth=13, max_leaves=0, min_child_weight=20,\n",
      "              missing=nan, monotone_constraints='()', n_estimators=10, n_jobs=0,\n",
      "              num_parallel_tree=1, predictor='auto', random_state=0,\n",
      "              reg_alpha=0, reg_lambda=1, ...)\n",
      "Prediction set (without labels) : (31620, 5)\n",
      "Done ....\n"
     ]
    }
   ],
   "source": [
    "retrain_and_submit(xgboost_opt.best_estimator_, version=33)"
   ]
  },
  {
   "cell_type": "code",
   "execution_count": 101,
   "metadata": {},
   "outputs": [
    {
     "name": "stdout",
     "output_type": "stream",
     "text": [
      "XGBClassifier(base_score=0.5, booster='gbtree', callbacks=None,\n",
      "              colsample_bylevel=1, colsample_bynode=1, colsample_bytree=1,\n",
      "              early_stopping_rounds=None, enable_categorical=False,\n",
      "              eval_metric=None, gamma=0, gpu_id=-1, grow_policy='depthwise',\n",
      "              importance_type=None, interaction_constraints='',\n",
      "              learning_rate=0.300000012, max_bin=256, max_cat_to_onehot=4,\n",
      "              max_delta_step=0, max_depth=15, max_leaves=0, min_child_weight=15,\n",
      "              missing=nan, monotone_constraints='()', n_estimators=12, n_jobs=0,\n",
      "              num_parallel_tree=1, predictor='auto', random_state=0,\n",
      "              reg_alpha=0, reg_lambda=1, ...)\n",
      "Prediction set (without labels) : (31620, 5)\n",
      "Done ....\n"
     ]
    }
   ],
   "source": [
    "retrain_and_submit(xgboost_opt.best_estimator_, version=34)"
   ]
  },
  {
   "cell_type": "code",
   "execution_count": 121,
   "metadata": {},
   "outputs": [
    {
     "name": "stdout",
     "output_type": "stream",
     "text": [
      "XGBClassifier(base_score=0.5, booster='gbtree', callbacks=None,\n",
      "              colsample_bylevel=1, colsample_bynode=1, colsample_bytree=1,\n",
      "              early_stopping_rounds=None, enable_categorical=False,\n",
      "              eval_metric=None, gamma=0, gpu_id=-1, grow_policy='depthwise',\n",
      "              importance_type=None, interaction_constraints='',\n",
      "              learning_rate=0.300000012, max_bin=256, max_cat_to_onehot=4,\n",
      "              max_delta_step=0, max_depth=13, max_leaves=0, min_child_weight=20,\n",
      "              missing=nan, monotone_constraints='()', n_estimators=12, n_jobs=0,\n",
      "              num_parallel_tree=1, predictor='auto', random_state=0,\n",
      "              reg_alpha=0, reg_lambda=1, ...)\n",
      "Prediction set (without labels) : (31620, 5)\n",
      "Done ....\n"
     ]
    }
   ],
   "source": [
    "# tran-test split random_state = 42\n",
    "retrain_and_submit(xgboost_opt.best_estimator_, version=35)"
   ]
  },
  {
   "cell_type": "code",
   "execution_count": 126,
   "metadata": {},
   "outputs": [
    {
     "name": "stdout",
     "output_type": "stream",
     "text": [
      "XGBClassifier(base_score=0.5, booster='gbtree', callbacks=None,\n",
      "              colsample_bylevel=1, colsample_bynode=1, colsample_bytree=1,\n",
      "              early_stopping_rounds=None, enable_categorical=False,\n",
      "              eval_metric=None, gamma=0, gpu_id=-1, grow_policy='depthwise',\n",
      "              importance_type=None, interaction_constraints='',\n",
      "              learning_rate=0.300000012, max_bin=256, max_cat_to_onehot=4,\n",
      "              max_delta_step=0, max_depth=15, max_leaves=0, min_child_weight=25,\n",
      "              missing=nan, monotone_constraints='()', n_estimators=18, n_jobs=0,\n",
      "              num_parallel_tree=1, predictor='auto', random_state=0,\n",
      "              reg_alpha=0, reg_lambda=1, ...)\n",
      "Prediction set (without labels) : (31620, 5)\n",
      "Done ....\n"
     ]
    }
   ],
   "source": [
    "# tran-test split random_state = 42 et params = 5\n",
    "retrain_and_submit(xgboost_opt.best_estimator_, version=36)"
   ]
  }
 ],
 "metadata": {
  "kernelspec": {
   "display_name": "Python 3.9.12 ('base')",
   "language": "python",
   "name": "python3"
  },
  "language_info": {
   "codemirror_mode": {
    "name": "ipython",
    "version": 3
   },
   "file_extension": ".py",
   "mimetype": "text/x-python",
   "name": "python",
   "nbconvert_exporter": "python",
   "pygments_lexer": "ipython3",
   "version": "3.9.12"
  },
  "orig_nbformat": 4,
  "vscode": {
   "interpreter": {
    "hash": "c766f7c526f554c39534ac5a6b6631b3579ceeff597e65c8c23f9bc665d77d04"
   }
  }
 },
 "nbformat": 4,
 "nbformat_minor": 2
}
