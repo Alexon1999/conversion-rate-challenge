{
 "cells": [
  {
   "cell_type": "code",
   "execution_count": 1,
   "metadata": {},
   "outputs": [],
   "source": [
    "import pandas as pd\n",
    "import numpy as np\n",
    "\n",
    "from sklearn.model_selection import train_test_split, cross_val_score\n",
    "from sklearn.compose import ColumnTransformer\n",
    "from sklearn.pipeline import Pipeline\n",
    "from sklearn.preprocessing import StandardScaler, OneHotEncoder\n",
    "from sklearn.impute import SimpleImputer, KNNImputer\n",
    "from sklearn.linear_model import LogisticRegression, SGDClassifier\n",
    "from sklearn.tree import DecisionTreeClassifier\n",
    "from sklearn.svm import SVC\n",
    "from sklearn.model_selection import GridSearchCV\n",
    "from sklearn.ensemble import BaggingClassifier, AdaBoostClassifier, GradientBoostingClassifier, VotingClassifier, StackingClassifier, RandomForestClassifier\n",
    "from xgboost import XGBClassifier\n",
    "from lightgbm import LGBMClassifier\n",
    "from sklearn.neighbors import KNeighborsClassifier\n",
    "from sklearn.metrics import f1_score, confusion_matrix, ConfusionMatrixDisplay, classification_report\n",
    "\n",
    "import matplotlib.pyplot as plt\n",
    "import plotly.express as px\n",
    "import plotly.graph_objects as go\n",
    "import plotly.io as pio\n",
    "# setting Jedha color palette as default\n",
    "pio.templates[\"jedha\"] = go.layout.Template(\n",
    "    layout_colorway=[\"#4B9AC7\", \"#4BE8E0\", \"#9DD4F3\", \"#97FBF6\", \"#2A7FAF\", \"#23B1AB\", \"#0E3449\", \"#015955\"]\n",
    ")\n",
    "pio.templates.default = \"jedha\"\n",
    "pio.renderers.default = \"vscode\" # to be replaced by \"iframe\" if working on JULIE\n",
    "from IPython.display import display"
   ]
  },
  {
   "cell_type": "code",
   "execution_count": 2,
   "metadata": {},
   "outputs": [
    {
     "name": "stdout",
     "output_type": "stream",
     "text": [
      "Set with labels (our train+test) : (284580, 6)\n"
     ]
    }
   ],
   "source": [
    "data = pd.read_csv('data/conversion_data_train.csv')\n",
    "print('Set with labels (our train+test) :', data.shape)"
   ]
  },
  {
   "cell_type": "markdown",
   "metadata": {},
   "source": [
    "### Train and Test sets for models"
   ]
  },
  {
   "cell_type": "code",
   "execution_count": 3,
   "metadata": {},
   "outputs": [
    {
     "name": "stdout",
     "output_type": "stream",
     "text": [
      "Explanatory variables :  Index(['country', 'age', 'new_user', 'source', 'total_pages_visited'], dtype='object')\n",
      "Target variable : converted\n",
      "\n"
     ]
    }
   ],
   "source": [
    "target_variable = 'converted'\n",
    "\n",
    "X = data.drop(target_variable, axis=1)\n",
    "Y = data.loc[:, target_variable]\n",
    "\n",
    "print('Explanatory variables : ', X.columns)\n",
    "print('Target variable :', target_variable)\n",
    "print()"
   ]
  },
  {
   "cell_type": "code",
   "execution_count": 4,
   "metadata": {},
   "outputs": [
    {
     "name": "stdout",
     "output_type": "stream",
     "text": [
      "Dividing into train and test sets...\n",
      "...Done.\n",
      "\n"
     ]
    }
   ],
   "source": [
    "# Train set & Test set \n",
    "print(\"Dividing into train and test sets...\")\n",
    "X_train, X_test, Y_train, Y_test = train_test_split(X, Y, test_size=0.2, random_state=0, stratify=Y)\n",
    "print(\"...Done.\")\n",
    "print()"
   ]
  },
  {
   "cell_type": "markdown",
   "metadata": {},
   "source": [
    "## Preprocessing"
   ]
  },
  {
   "cell_type": "code",
   "execution_count": 5,
   "metadata": {},
   "outputs": [
    {
     "name": "stdout",
     "output_type": "stream",
     "text": [
      "Found numeric features  ['age', 'total_pages_visited']\n",
      "Found categorical features  ['new_user', 'country', 'source']\n"
     ]
    }
   ],
   "source": [
    "numeric_features = ['age', 'total_pages_visited']\n",
    "categorical_features = ['new_user', 'country', 'source']\n",
    "\n",
    "print('Found numeric features ', numeric_features)\n",
    "print('Found categorical features ', categorical_features)"
   ]
  },
  {
   "cell_type": "code",
   "execution_count": 6,
   "metadata": {},
   "outputs": [],
   "source": [
    "# Create pipeline for numeric features\n",
    "numeric_transformer = Pipeline(steps=[\n",
    "    ('imputer', KNNImputer()), \n",
    "    ('scaler', StandardScaler())\n",
    "])\n",
    "\n",
    "# Create pipeline for categorical features\n",
    "categorical_transformer = Pipeline(\n",
    "    steps=[\n",
    "    ('imputer', SimpleImputer(strategy='most_frequent')), # missing values will be replaced by most frequent value\n",
    "    ('encoder', OneHotEncoder(drop='first')) # first column will be dropped to avoid creating correlations between features\n",
    "    ])\n",
    "\n",
    "# Use ColumnTransformer to make a preprocessor object that describes all the treatments to be done\n",
    "preprocessor = ColumnTransformer(\n",
    "    transformers=[\n",
    "        ('num', numeric_transformer, numeric_features),\n",
    "        ('cat', categorical_transformer, categorical_features)\n",
    "    ])"
   ]
  },
  {
   "cell_type": "code",
   "execution_count": 7,
   "metadata": {},
   "outputs": [
    {
     "name": "stdout",
     "output_type": "stream",
     "text": [
      "Performing preprocessings on train set...\n",
      "       country  age  new_user  source  total_pages_visited\n",
      "137434   China   19         1     Seo                    1\n",
      "112323      US   33         1  Direct                    5\n",
      "143261      US   51         1     Ads                    2\n",
      "162328   China   17         0     Seo                    1\n",
      "158039   China   28         1     Seo                    5\n",
      "...Done.\n",
      "[[-1.3990984  -1.15935344  1.          0.          0.          0.\n",
      "   0.          1.        ]\n",
      " [ 0.29299544  0.03743241  1.          0.          0.          1.\n",
      "   1.          0.        ]\n",
      " [ 2.46854467 -0.86015697  1.          0.          0.          1.\n",
      "   0.          0.        ]\n",
      " [-1.64082609 -1.15935344  0.          0.          0.          0.\n",
      "   0.          1.        ]\n",
      " [-0.31132378  0.03743241  1.          0.          0.          0.\n",
      "   0.          1.        ]]\n",
      "\n",
      "Performing preprocessings on test set...\n",
      "       country  age  new_user  source  total_pages_visited\n",
      "138303      UK   34         1     Ads                    1\n",
      "133130      UK   32         0     Ads                    5\n",
      "245758      US   44         1     Ads                    1\n",
      "185267      US   35         1  Direct                    1\n",
      "177637      US   29         1  Direct                    3\n",
      "...Done.\n",
      "[[ 0.41385929 -1.15935344  1.          0.          1.          0.\n",
      "   0.          0.        ]\n",
      " [ 0.1721316   0.03743241  0.          0.          1.          0.\n",
      "   0.          0.        ]\n",
      " [ 1.62249775 -1.15935344  1.          0.          0.          1.\n",
      "   0.          0.        ]\n",
      " [ 0.53472314 -1.15935344  1.          0.          0.          1.\n",
      "   1.          0.        ]\n",
      " [-0.19045994 -0.56096051  1.          0.          0.          1.\n",
      "   1.          0.        ]]\n"
     ]
    }
   ],
   "source": [
    "# Preprocessings on train set\n",
    "print(\"Performing preprocessings on train set...\")\n",
    "print(X_train.head())\n",
    "X_train = preprocessor.fit_transform(X_train)\n",
    "print('...Done.')\n",
    "print(X_train[0:5]) \n",
    "print()\n",
    "\n",
    "# Preprocessings on test set\n",
    "print(\"Performing preprocessings on test set...\")\n",
    "print(X_test.head()) \n",
    "X_test = preprocessor.transform(X_test) # Don't fit again !! \n",
    "print('...Done.')\n",
    "print(X_test[0:5,:])"
   ]
  },
  {
   "cell_type": "markdown",
   "metadata": {},
   "source": [
    "## Performance assessment \n",
    "- f1_score, cross_val_score, confusion matrices, Feature Importance and Classification report"
   ]
  },
  {
   "cell_type": "code",
   "execution_count": 8,
   "metadata": {},
   "outputs": [],
   "source": [
    "def evaluate_performance(model):\n",
    "  Y_train_pred = model.predict(X_train)\n",
    "  Y_test_pred = model.predict(X_test)\n",
    "\n",
    "  # Here, the f1-score will be used to assess the performances on the leaderboard\n",
    "  print(model.__class__.__name__)\n",
    "  print(\"f1-score on train set : \", f1_score(Y_train, Y_train_pred))\n",
    "  print(\"f1-score on test set : \", f1_score(Y_test, Y_test_pred))\n",
    "  print()\n",
    "  \n",
    "  scores = cross_val_score(model, X_train, Y_train, cv=5, scoring='f1')\n",
    "  print('The cross-validated f1 score is : ', scores.mean())\n",
    "  print('The standard deviation is : ', scores.std())\n",
    "  print('is this model overfitting ? ', f1_score(Y_test, Y_test_pred) - f1_score(Y_train, Y_train_pred) > scores.std())\n",
    "\n",
    "  # Visualize confusion matrices\n",
    "  _, axes = plt.subplots(nrows=1, ncols=2, figsize=(10, 5))\n",
    "  axes[0].set(title=\"Confusion Matrix on Train set\") # Set a title that we will add into ConfusionMatrixDisplay\n",
    "  ConfusionMatrixDisplay.from_estimator(model, X_train, Y_train, ax=axes[0]) # ConfusionMatrixDisplay from sklearn\n",
    "\n",
    "  axes[1].set(title=\"Confusion Matrix on Test set\") # Set a title that we will add into ConfusionMatrixDisplay\n",
    "  ConfusionMatrixDisplay.from_estimator(model, X_test, Y_test, ax=axes[1]) # ConfusionMatrixDisplay from sklearn\n",
    "  plt.show()\n",
    "\n",
    "  # Feature Importance\n",
    "  # numeric_features +  encoded categorical column names\n",
    "  columns = np.append(numeric_features, preprocessor.transformers_[1][1]['encoder'].get_feature_names_out(categorical_features))\n",
    "  try:\n",
    "    coefs = pd.DataFrame(index=columns, data=model.coef_.transpose(), columns=['coefficients'] )\n",
    "    # Compute abs() and sort values\n",
    "    feature_importance = abs(coefs).sort_values(by = 'coefficients')\n",
    "    # Plot coefficients\n",
    "    fig = px.bar(feature_importance, orientation = 'h', title='Feature Importance')\n",
    "    fig.update_layout(showlegend = False, \n",
    "                      margin = {'l': 120} # to avoid cropping of column names\n",
    "                      )\n",
    "    fig.show()\n",
    "  except:\n",
    "    pass\n",
    "\n",
    "  # Classification report\n",
    "  print('classification_report on Train set')\n",
    "  print(classification_report(Y_train,Y_train_pred))\n",
    "  print('---')\n",
    "  print('classification_report on Test set')\n",
    "  print(classification_report(Y_test,Y_test_pred))"
   ]
  },
  {
   "cell_type": "code",
   "execution_count": 9,
   "metadata": {},
   "outputs": [],
   "source": [
    "def get_f1_score(model):\n",
    "  Y_train_pred = model.predict(X_train)\n",
    "  Y_test_pred = model.predict(X_test)\n",
    "\n",
    "  # Here, the f1-score will be used to assess the performances on the leaderboard\n",
    "  print(model.__class__.__name__)\n",
    "  print(\"f1-score on train set : \", f1_score(Y_train, Y_train_pred))\n",
    "  print(\"f1-score on test set : \", f1_score(Y_test, Y_test_pred))"
   ]
  },
  {
   "cell_type": "markdown",
   "metadata": {},
   "source": [
    "## Models"
   ]
  },
  {
   "cell_type": "markdown",
   "metadata": {},
   "source": [
    "#### **Simple Models**"
   ]
  },
  {
   "cell_type": "code",
   "execution_count": 10,
   "metadata": {},
   "outputs": [],
   "source": [
    "model_1 = DecisionTreeClassifier()\n",
    "model_2 = RandomForestClassifier()\n",
    "model_3 = LogisticRegression()\n",
    "model_4 = AdaBoostClassifier()\n",
    "model_5 = GradientBoostingClassifier()\n",
    "model_6 = XGBClassifier()\n",
    "model_7 = SGDClassifier()\n",
    "model_8 = KNeighborsClassifier()\n",
    "model_9 = LGBMClassifier()"
   ]
  },
  {
   "cell_type": "code",
   "execution_count": 11,
   "metadata": {},
   "outputs": [
    {
     "name": "stdout",
     "output_type": "stream",
     "text": [
      "DecisionTreeClassifier\n",
      "f1-score on train set :  0.8026185582705335\n",
      "f1-score on test set :  0.7174641877476381\n",
      "RandomForestClassifier\n",
      "f1-score on train set :  0.8070540962869261\n",
      "f1-score on test set :  0.7336114421930869\n",
      "LogisticRegression\n",
      "f1-score on train set :  0.7654507084715104\n",
      "f1-score on test set :  0.7554347826086957\n",
      "AdaBoostClassifier\n",
      "f1-score on train set :  0.7575872247029442\n",
      "f1-score on test set :  0.7481146304675715\n",
      "GradientBoostingClassifier\n",
      "f1-score on train set :  0.7643552403229458\n",
      "f1-score on test set :  0.7508265704839194\n",
      "XGBClassifier\n",
      "f1-score on train set :  0.7772533153517645\n",
      "f1-score on test set :  0.7491778774289984\n",
      "SGDClassifier\n",
      "f1-score on train set :  0.7638541429762717\n",
      "f1-score on test set :  0.7493179751439831\n",
      "KNeighborsClassifier\n",
      "f1-score on train set :  0.7795484727755646\n",
      "f1-score on test set :  0.7341398642667454\n",
      "LGBMClassifier\n",
      "f1-score on train set :  0.773591943304737\n",
      "f1-score on test set :  0.7479964381121994\n"
     ]
    }
   ],
   "source": [
    "# Which base model fitting better with our dataset\n",
    "for model in [model_1, model_2, model_3, model_4, model_5, model_6, model_7, model_8, model_9]:\n",
    "  model.fit(X_train, Y_train)\n",
    "  get_f1_score(model)"
   ]
  },
  {
   "cell_type": "markdown",
   "metadata": {},
   "source": [
    "##### Best Models are **Logistic Regression, GradientBoosting, XGBoost and SGDClassifier**"
   ]
  },
  {
   "cell_type": "markdown",
   "metadata": {},
   "source": [
    "#### **Voting**"
   ]
  },
  {
   "cell_type": "markdown",
   "metadata": {},
   "source": [
    "##### all models"
   ]
  },
  {
   "cell_type": "code",
   "execution_count": 132,
   "metadata": {},
   "outputs": [
    {
     "data": {
      "text/plain": [
       "VotingClassifier(estimators=[('Tree', DecisionTreeClassifier()),\n",
       "                             ('Forest', RandomForestClassifier()),\n",
       "                             ('log_reg', LogisticRegression()),\n",
       "                             ('adaboost', AdaBoostClassifier()),\n",
       "                             ('gradientboost', GradientBoostingClassifier()),\n",
       "                             ('xgboost',\n",
       "                              XGBClassifier(base_score=0.5, booster='gbtree',\n",
       "                                            callbacks=None, colsample_bylevel=1,\n",
       "                                            colsample_bynode=1,\n",
       "                                            colsample_bytree=1,\n",
       "                                            early_s...\n",
       "                                            learning_rate=0.300000012,\n",
       "                                            max_bin=256, max_cat_to_onehot=4,\n",
       "                                            max_delta_step=0, max_depth=6,\n",
       "                                            max_leaves=0, min_child_weight=1,\n",
       "                                            missing=nan,\n",
       "                                            monotone_constraints='()',\n",
       "                                            n_estimators=100, n_jobs=0,\n",
       "                                            num_parallel_tree=1,\n",
       "                                            predictor='auto', random_state=0,\n",
       "                                            reg_alpha=0, reg_lambda=1, ...)),\n",
       "                             ('sgdc', SGDClassifier()),\n",
       "                             ('kneighbors', KNeighborsClassifier()),\n",
       "                             ('lgbm', LGBMClassifier())])"
      ]
     },
     "execution_count": 132,
     "metadata": {},
     "output_type": "execute_result"
    }
   ],
   "source": [
    "voting_classifier = VotingClassifier([('Tree', model_1), ('Forest', model_2), ('log_reg', model_3), ('adaboost', model_4), ('gradientboost', model_5), ('xgboost', model_6), ('sgdc', model_7), ('kneighbors', model_8), ('lgbm', model_9)], voting='hard')\n",
    "\n",
    "voting_classifier.fit(X_train, Y_train)"
   ]
  },
  {
   "cell_type": "code",
   "execution_count": 133,
   "metadata": {},
   "outputs": [
    {
     "name": "stdout",
     "output_type": "stream",
     "text": [
      "VotingClassifier\n",
      "f1-score on train set :  0.7781009920190946\n",
      "f1-score on test set :  0.7512630014858841\n"
     ]
    }
   ],
   "source": [
    "get_f1_score(voting_classifier)"
   ]
  },
  {
   "cell_type": "markdown",
   "metadata": {},
   "source": [
    "##### best models"
   ]
  },
  {
   "cell_type": "code",
   "execution_count": 139,
   "metadata": {},
   "outputs": [
    {
     "data": {
      "text/plain": [
       "VotingClassifier(estimators=[('log_reg', LogisticRegression()),\n",
       "                             ('gradientboost', GradientBoostingClassifier()),\n",
       "                             ('xgboost',\n",
       "                              XGBClassifier(base_score=0.5, booster='gbtree',\n",
       "                                            callbacks=None, colsample_bylevel=1,\n",
       "                                            colsample_bynode=1,\n",
       "                                            colsample_bytree=1,\n",
       "                                            early_stopping_rounds=None,\n",
       "                                            enable_categorical=False,\n",
       "                                            eval_metric=None, gamma=0,\n",
       "                                            gpu_id=-1, grow_policy='depthwise',\n",
       "                                            importance_type=None,\n",
       "                                            interaction_constraints='',\n",
       "                                            learning_rate=0.300000012,\n",
       "                                            max_bin=256, max_cat_to_onehot=4,\n",
       "                                            max_delta_step=0, max_depth=6,\n",
       "                                            max_leaves=0, min_child_weight=1,\n",
       "                                            missing=nan,\n",
       "                                            monotone_constraints='()',\n",
       "                                            n_estimators=100, n_jobs=0,\n",
       "                                            num_parallel_tree=1,\n",
       "                                            predictor='auto', random_state=0,\n",
       "                                            reg_alpha=0, reg_lambda=1, ...))])"
      ]
     },
     "execution_count": 139,
     "metadata": {},
     "output_type": "execute_result"
    }
   ],
   "source": [
    "voting_classifier_best = VotingClassifier([('log_reg', model_3), ('gradientboost', model_5), ('xgboost', model_6)], voting='hard')\n",
    "\n",
    "voting_classifier_best.fit(X_train, Y_train)"
   ]
  },
  {
   "cell_type": "markdown",
   "metadata": {},
   "source": [
    "#### **Bagging**"
   ]
  },
  {
   "cell_type": "markdown",
   "metadata": {},
   "source": [
    "##### DecisionTree (with hyperparameter optimization)"
   ]
  },
  {
   "cell_type": "code",
   "execution_count": 15,
   "metadata": {},
   "outputs": [
    {
     "name": "stdout",
     "output_type": "stream",
     "text": [
      "Grid search...\n",
      "...Done.\n",
      "Best hyperparameters :  {'max_depth': 10, 'min_samples_leaf': 12, 'min_samples_split': 2}\n",
      "Best validation accuracy :  0.9856059807435519\n",
      "\n",
      "GridSearchCV\n",
      "f1-score on train set :  0.7662841073192976\n",
      "f1-score on test set :  0.7435351384240949\n"
     ]
    }
   ],
   "source": [
    "# Decision tree\n",
    "# Perform grid search\n",
    "print(\"Grid search...\")\n",
    "dt = DecisionTreeClassifier()\n",
    "\n",
    "# Grid of values to be tested\n",
    "params = {\n",
    "    'max_depth': [8, 10, 12], \n",
    "    'min_samples_leaf': [10, 12, 14],\n",
    "    'min_samples_split': [2, 3, 4]\n",
    "}\n",
    "dt_opt = GridSearchCV(dt, param_grid = params, cv = 3) # cv : the number of folds to be used for CV\n",
    "dt_opt.fit(X_train, Y_train)\n",
    "print(\"...Done.\")\n",
    "print(\"Best hyperparameters : \", dt_opt.best_params_)\n",
    "print(\"Best validation accuracy : \", dt_opt.best_score_)\n",
    "print()\n",
    "get_f1_score(dt_opt)"
   ]
  },
  {
   "cell_type": "markdown",
   "metadata": {},
   "source": [
    "##### RandomForest (with hyperparameter optimization)"
   ]
  },
  {
   "cell_type": "code",
   "execution_count": 26,
   "metadata": {},
   "outputs": [
    {
     "name": "stdout",
     "output_type": "stream",
     "text": [
      "Grid search...\n",
      "{'max_depth': [2, 4, 6, 8, 10], 'min_samples_leaf': [1, 2, 5], 'min_samples_split': [2, 4, 8], 'n_estimators': [10, 20, 40, 60, 80, 100]}\n",
      "Fitting 3 folds for each of 270 candidates, totalling 810 fits\n",
      "...Done.\n",
      "Best hyperparameters :  {'max_depth': 8, 'min_samples_leaf': 5, 'min_samples_split': 4, 'n_estimators': 100}\n",
      "Best validation accuracy :  0.9861638203668565\n",
      "\n",
      "GridSearchCV\n",
      "f1-score on train set :  0.767815042969047\n",
      "f1-score on test set :  0.7428397318708104\n"
     ]
    }
   ],
   "source": [
    "# Perform grid search\n",
    "print(\"Grid search...\")\n",
    "random_forest = RandomForestClassifier()\n",
    "\n",
    "# Grid of values to be tested\n",
    "params = {\n",
    "    'max_depth': [2, 4, 6, 8, 10], \n",
    "    'min_samples_leaf': [1, 2, 5],\n",
    "    'min_samples_split': [2, 4, 8],\n",
    "    'n_estimators': [10, 20, 40, 60, 80, 100]\n",
    "}\n",
    "print(params)\n",
    "random_forest_opt = GridSearchCV(random_forest, param_grid = params, cv = 3, verbose = 1) \n",
    "# cv : the number of folds to be used for CV\n",
    "random_forest_opt.fit(X_train, Y_train)\n",
    "print(\"...Done.\")\n",
    "print(\"Best hyperparameters : \", random_forest_opt.best_params_)\n",
    "print(\"Best validation accuracy : \", random_forest_opt.best_score_)\n",
    "print()\n",
    "get_f1_score(random_forest_opt)"
   ]
  },
  {
   "cell_type": "markdown",
   "metadata": {},
   "source": [
    "##### Kneighbors"
   ]
  },
  {
   "cell_type": "code",
   "execution_count": 20,
   "metadata": {},
   "outputs": [
    {
     "name": "stdout",
     "output_type": "stream",
     "text": [
      "BaggingClassifier\n",
      "f1-score on train set :  0.7824324324324325\n",
      "f1-score on test set :  0.732810615199035\n"
     ]
    }
   ],
   "source": [
    "bagging_kneighbors = BaggingClassifier(base_estimator=KNeighborsClassifier(), n_estimators = 5)\n",
    "bagging_kneighbors.fit(X_train, Y_train)\n",
    "get_f1_score(bagging_kneighbors)"
   ]
  },
  {
   "cell_type": "markdown",
   "metadata": {},
   "source": [
    "#### **Boosting**"
   ]
  },
  {
   "cell_type": "markdown",
   "metadata": {},
   "source": [
    "##### Adaboost with logistic regression as base estimator"
   ]
  },
  {
   "cell_type": "code",
   "execution_count": 50,
   "metadata": {},
   "outputs": [
    {
     "name": "stdout",
     "output_type": "stream",
     "text": [
      "Grid search...\n",
      "{'base_estimator__C': [0.01, 0.05, 0.1, 0.5], 'n_estimators': [5, 10, 20, 30]}\n",
      "...Done.\n",
      "Best hyperparameters :  {'base_estimator__C': 0.5, 'n_estimators': 30}\n",
      "Best validation accuracy :  0.985092065500035\n",
      "\n",
      "GridSearchCV\n",
      "f1-score on train set :  0.7356931233432092\n",
      "f1-score on test set :  0.7215466167758028\n"
     ]
    }
   ],
   "source": [
    "# Perform grid search\n",
    "print(\"Grid search...\")\n",
    "logistic_regression = LogisticRegression(max_iter = 1000) # max_iter changed because of convergence warning\n",
    "adaboost_log_reg = AdaBoostClassifier(logistic_regression)\n",
    "\n",
    "# Grid of values to be tested\n",
    "params = {\n",
    "    'base_estimator__C': [0.01, 0.05, 0.1, 0.5,], # base_estimator__ prefix because C is a parameter from LogisticRegression! \n",
    "    'n_estimators': [5, 10, 20, 30] # n_estimators is a hyperparameter of the ensemble method\n",
    "}\n",
    "print(params)\n",
    "adaboost_log_reg_opt = GridSearchCV(adaboost_log_reg, param_grid = params, cv = 3) # cv : the number of folds to be used for CV\n",
    "adaboost_log_reg_opt.fit(X_train, Y_train)\n",
    "print(\"...Done.\")\n",
    "print(\"Best hyperparameters : \", adaboost_log_reg_opt.best_params_)\n",
    "print(\"Best validation accuracy : \", adaboost_log_reg_opt.best_score_)\n",
    "print()\n",
    "get_f1_score(adaboost_log_reg_opt)"
   ]
  },
  {
   "cell_type": "markdown",
   "metadata": {},
   "source": [
    "##### Adaboost with decision tree as base estimator"
   ]
  },
  {
   "cell_type": "code",
   "execution_count": 68,
   "metadata": {},
   "outputs": [],
   "source": [
    "adaboost_model = AdaBoostClassifier(n_estimators=100)"
   ]
  },
  {
   "cell_type": "code",
   "execution_count": 57,
   "metadata": {},
   "outputs": [
    {
     "name": "stdout",
     "output_type": "stream",
     "text": [
      "Grid search...\n",
      "{'base_estimator__max_depth': [6, 8, 10], 'base_estimator__min_samples_leaf': [1, 2, 3], 'base_estimator__min_samples_split': [4, 8, 10], 'n_estimators': [4, 6, 8, 10]}\n",
      "Fitting 3 folds for each of 108 candidates, totalling 324 fits\n",
      "...Done.\n",
      "Best hyperparameters :  {'base_estimator__max_depth': 6, 'base_estimator__min_samples_leaf': 3, 'base_estimator__min_samples_split': 4, 'n_estimators': 8}\n",
      "Best validation accuracy :  0.9858827043362147\n",
      "\n",
      "GridSearchCV\n",
      "f1-score on train set :  0.7717860866974527\n",
      "f1-score on test set :  0.7472462042274486\n"
     ]
    }
   ],
   "source": [
    "# Perform grid search\n",
    "print(\"Grid search...\")\n",
    "decision_tree = DecisionTreeClassifier()\n",
    "adaboost_dt = AdaBoostClassifier(decision_tree)\n",
    "\n",
    "# Grid of values to be tested\n",
    "params = {\n",
    "    'base_estimator__max_depth': [8, 10, 12], # d’abord on va tester avec [ 2, 4, 6, 8, 10, 12, 14, …, 20 ]\n",
    "    # si le meilleur paramètre est 10, on va zoomer sur les valeurs autour de 10. [ 8, 10, 12 ]\n",
    "    'base_estimator__min_samples_leaf': [1, 2, 3],\n",
    "    'base_estimator__min_samples_split': [6, 8, 10],\n",
    "    'n_estimators': [2, 4, 6, 8, 10]\n",
    "}\n",
    "print(params)\n",
    "adaboost_dt_opt = GridSearchCV(adaboost_dt, param_grid = params, cv = 3, verbose = 1) # cv : the number of folds to be used for CV\n",
    "adaboost_dt_opt.fit(X_train, Y_train)\n",
    "print(\"...Done.\")\n",
    "print(\"Best hyperparameters : \", adaboost_dt_opt.best_params_)\n",
    "print(\"Best validation accuracy : \", adaboost_dt_opt.best_score_)\n",
    "print()\n",
    "get_f1_score(adaboost_dt_opt)"
   ]
  },
  {
   "cell_type": "markdown",
   "metadata": {},
   "source": [
    "##### GradientBoosting"
   ]
  },
  {
   "cell_type": "code",
   "execution_count": 58,
   "metadata": {},
   "outputs": [
    {
     "name": "stdout",
     "output_type": "stream",
     "text": [
      "Grid search...\n",
      "{'max_depth': [8, 10, 12], 'min_samples_leaf': [1, 2, 3], 'min_samples_split': [6, 8, 10], 'n_estimators': [2, 4, 6, 8, 10, 12]}\n",
      "Fitting 3 folds for each of 162 candidates, totalling 486 fits\n",
      "...Done.\n",
      "Best hyperparameters :  {'max_depth': 8, 'min_samples_leaf': 2, 'min_samples_split': 8, 'n_estimators': 12}\n",
      "Best validation accuracy :  0.9853072949609952\n",
      "\n",
      "GridSearchCV\n",
      "f1-score on train set :  0.755223643441646\n",
      "f1-score on test set :  0.732092142631745\n"
     ]
    }
   ],
   "source": [
    "# Perform grid search\n",
    "print(\"Grid search...\")\n",
    "gradientboost = GradientBoostingClassifier()\n",
    "\n",
    "# Grid of values to be tested\n",
    "params = {\n",
    "    'max_depth': [8, 10, 12],\n",
    "    'min_samples_leaf': [1, 2, 3],\n",
    "    'min_samples_split': [6, 8, 10],\n",
    "    'n_estimators': [2, 4, 6, 8, 10, 12]\n",
    "}\n",
    "print(params)\n",
    "gradientboost_opt = GridSearchCV(gradientboost, param_grid = params, cv = 3, verbose = 1) # cv : the number of folds to be used for CV\n",
    "gradientboost_opt.fit(X_train, Y_train)\n",
    "print(\"...Done.\")\n",
    "print(\"Best hyperparameters : \", gradientboost_opt.best_params_)\n",
    "print(\"Best validation accuracy : \", gradientboost_opt.best_score_)\n",
    "print()\n",
    "get_f1_score(gradientboost_opt)"
   ]
  },
  {
   "cell_type": "markdown",
   "metadata": {},
   "source": [
    "##### XGBoost"
   ]
  },
  {
   "cell_type": "code",
   "execution_count": 104,
   "metadata": {},
   "outputs": [
    {
     "name": "stdout",
     "output_type": "stream",
     "text": [
      "XGBClassifier\n",
      "f1-score on train set :  0.7772533153517645\n",
      "f1-score on test set :  0.7491778774289984\n"
     ]
    }
   ],
   "source": [
    "xgboost_model = XGBClassifier()\n",
    "xgboost_model.fit(X_train, Y_train)\n",
    "get_f1_score(xgboost_model)"
   ]
  },
  {
   "cell_type": "code",
   "execution_count": 105,
   "metadata": {},
   "outputs": [
    {
     "name": "stdout",
     "output_type": "stream",
     "text": [
      "XGBClassifier\n",
      "f1-score on train set :  0.7772533153517645\n",
      "f1-score on test set :  0.7491778774289984\n",
      "\n",
      "The cross-validated f1 score is :  0.7606697430773302\n",
      "The standard deviation is :  0.008626496295500321\n",
      "is this model overfitting ?  False\n"
     ]
    },
    {
     "data": {
      "image/png": "[encoded data removed]",
      "text/plain": [
       "<Figure size 720x360 with 4 Axes>"
      ]
     },
     "metadata": {
      "needs_background": "light"
     },
     "output_type": "display_data"
    },
    {
     "name": "stdout",
     "output_type": "stream",
     "text": [
      "classification_report on Train set\n",
      "              precision    recall  f1-score   support\n",
      "\n",
      "           0       0.99      1.00      0.99    220320\n",
      "           1       0.86      0.71      0.78      7344\n",
      "\n",
      "    accuracy                           0.99    227664\n",
      "   macro avg       0.93      0.85      0.89    227664\n",
      "weighted avg       0.99      0.99      0.99    227664\n",
      "\n",
      "---\n",
      "classification_report on Test set\n",
      "              precision    recall  f1-score   support\n",
      "\n",
      "           0       0.99      1.00      0.99     55080\n",
      "           1       0.83      0.68      0.75      1836\n",
      "\n",
      "    accuracy                           0.99     56916\n",
      "   macro avg       0.91      0.84      0.87     56916\n",
      "weighted avg       0.98      0.99      0.98     56916\n",
      "\n"
     ]
    }
   ],
   "source": [
    "evaluate_performance(xgboost_model)"
   ]
  },
  {
   "cell_type": "markdown",
   "metadata": {},
   "source": [
    "##### XGBoost (with hyperparameter optimization)"
   ]
  },
  {
   "cell_type": "code",
   "execution_count": 48,
   "metadata": {},
   "outputs": [
    {
     "name": "stdout",
     "output_type": "stream",
     "text": [
      "Grid search...\n",
      "{'max_depth': [13, 14, 15], 'min_child_weight': [15, 20, 25], 'n_estimators': [8, 10, 12]}\n",
      "Fitting 3 folds for each of 27 candidates, totalling 81 fits\n",
      "[CV 1/3] END max_depth=13, min_child_weight=15, n_estimators=8;, score=0.754 total time=   0.5s\n",
      "[CV 2/3] END max_depth=13, min_child_weight=15, n_estimators=8;, score=0.767 total time=   0.5s\n",
      "[CV 3/3] END max_depth=13, min_child_weight=15, n_estimators=8;, score=0.765 total time=   0.5s\n",
      "[CV 1/3] END max_depth=13, min_child_weight=15, n_estimators=10;, score=0.756 total time=   0.5s\n",
      "[CV 2/3] END max_depth=13, min_child_weight=15, n_estimators=10;, score=0.767 total time=   1.0s\n",
      "[CV 3/3] END max_depth=13, min_child_weight=15, n_estimators=10;, score=0.766 total time=   0.6s\n",
      "[CV 1/3] END max_depth=13, min_child_weight=15, n_estimators=12;, score=0.753 total time=   0.8s\n",
      "[CV 2/3] END max_depth=13, min_child_weight=15, n_estimators=12;, score=0.767 total time=   0.8s\n",
      "[CV 3/3] END max_depth=13, min_child_weight=15, n_estimators=12;, score=0.765 total time=   0.7s\n",
      "[CV 1/3] END max_depth=13, min_child_weight=20, n_estimators=8;, score=0.754 total time=   0.4s\n",
      "[CV 2/3] END max_depth=13, min_child_weight=20, n_estimators=8;, score=0.763 total time=   0.4s\n",
      "[CV 3/3] END max_depth=13, min_child_weight=20, n_estimators=8;, score=0.770 total time=   0.5s\n",
      "[CV 1/3] END max_depth=13, min_child_weight=20, n_estimators=10;, score=0.758 total time=   0.6s\n",
      "[CV 2/3] END max_depth=13, min_child_weight=20, n_estimators=10;, score=0.764 total time=   0.5s\n",
      "[CV 3/3] END max_depth=13, min_child_weight=20, n_estimators=10;, score=0.772 total time=   0.6s\n",
      "[CV 1/3] END max_depth=13, min_child_weight=20, n_estimators=12;, score=0.757 total time=   0.6s\n",
      "[CV 2/3] END max_depth=13, min_child_weight=20, n_estimators=12;, score=0.764 total time=   0.7s\n",
      "[CV 3/3] END max_depth=13, min_child_weight=20, n_estimators=12;, score=0.770 total time=   0.6s\n",
      "[CV 1/3] END max_depth=13, min_child_weight=25, n_estimators=8;, score=0.753 total time=   0.4s\n",
      "[CV 2/3] END max_depth=13, min_child_weight=25, n_estimators=8;, score=0.766 total time=   0.4s\n",
      "[CV 3/3] END max_depth=13, min_child_weight=25, n_estimators=8;, score=0.770 total time=   0.5s\n",
      "[CV 1/3] END max_depth=13, min_child_weight=25, n_estimators=10;, score=0.753 total time=   0.6s\n",
      "[CV 2/3] END max_depth=13, min_child_weight=25, n_estimators=10;, score=0.764 total time=   0.5s\n",
      "[CV 3/3] END max_depth=13, min_child_weight=25, n_estimators=10;, score=0.771 total time=   0.5s\n",
      "[CV 1/3] END max_depth=13, min_child_weight=25, n_estimators=12;, score=0.754 total time=   0.6s\n",
      "[CV 2/3] END max_depth=13, min_child_weight=25, n_estimators=12;, score=0.764 total time=   0.7s\n",
      "[CV 3/3] END max_depth=13, min_child_weight=25, n_estimators=12;, score=0.771 total time=   0.6s\n",
      "[CV 1/3] END max_depth=14, min_child_weight=15, n_estimators=8;, score=0.754 total time=   0.5s\n",
      "[CV 2/3] END max_depth=14, min_child_weight=15, n_estimators=8;, score=0.767 total time=   0.4s\n",
      "[CV 3/3] END max_depth=14, min_child_weight=15, n_estimators=8;, score=0.765 total time=   0.5s\n",
      "[CV 1/3] END max_depth=14, min_child_weight=15, n_estimators=10;, score=0.756 total time=   0.6s\n",
      "[CV 2/3] END max_depth=14, min_child_weight=15, n_estimators=10;, score=0.767 total time=   0.6s\n",
      "[CV 3/3] END max_depth=14, min_child_weight=15, n_estimators=10;, score=0.766 total time=   0.6s\n",
      "[CV 1/3] END max_depth=14, min_child_weight=15, n_estimators=12;, score=0.754 total time=   0.7s\n",
      "[CV 2/3] END max_depth=14, min_child_weight=15, n_estimators=12;, score=0.767 total time=   0.8s\n",
      "[CV 3/3] END max_depth=14, min_child_weight=15, n_estimators=12;, score=0.766 total time=   0.8s\n",
      "[CV 1/3] END max_depth=14, min_child_weight=20, n_estimators=8;, score=0.754 total time=   0.4s\n",
      "[CV 2/3] END max_depth=14, min_child_weight=20, n_estimators=8;, score=0.763 total time=   0.4s\n",
      "[CV 3/3] END max_depth=14, min_child_weight=20, n_estimators=8;, score=0.770 total time=   0.4s\n",
      "[CV 1/3] END max_depth=14, min_child_weight=20, n_estimators=10;, score=0.758 total time=   0.5s\n",
      "[CV 2/3] END max_depth=14, min_child_weight=20, n_estimators=10;, score=0.764 total time=   0.6s\n",
      "[CV 3/3] END max_depth=14, min_child_weight=20, n_estimators=10;, score=0.772 total time=   0.5s\n",
      "[CV 1/3] END max_depth=14, min_child_weight=20, n_estimators=12;, score=0.757 total time=   0.6s\n",
      "[CV 2/3] END max_depth=14, min_child_weight=20, n_estimators=12;, score=0.764 total time=   0.7s\n",
      "[CV 3/3] END max_depth=14, min_child_weight=20, n_estimators=12;, score=0.772 total time=   0.7s\n",
      "[CV 1/3] END max_depth=14, min_child_weight=25, n_estimators=8;, score=0.753 total time=   0.4s\n",
      "[CV 2/3] END max_depth=14, min_child_weight=25, n_estimators=8;, score=0.766 total time=   0.4s\n",
      "[CV 3/3] END max_depth=14, min_child_weight=25, n_estimators=8;, score=0.770 total time=   0.4s\n",
      "[CV 1/3] END max_depth=14, min_child_weight=25, n_estimators=10;, score=0.753 total time=   0.5s\n",
      "[CV 2/3] END max_depth=14, min_child_weight=25, n_estimators=10;, score=0.764 total time=   0.5s\n",
      "[CV 3/3] END max_depth=14, min_child_weight=25, n_estimators=10;, score=0.771 total time=   0.6s\n",
      "[CV 1/3] END max_depth=14, min_child_weight=25, n_estimators=12;, score=0.754 total time=   0.7s\n",
      "[CV 2/3] END max_depth=14, min_child_weight=25, n_estimators=12;, score=0.764 total time=   0.6s\n",
      "[CV 3/3] END max_depth=14, min_child_weight=25, n_estimators=12;, score=0.770 total time=   0.7s\n",
      "[CV 1/3] END max_depth=15, min_child_weight=15, n_estimators=8;, score=0.754 total time=   0.5s\n",
      "[CV 2/3] END max_depth=15, min_child_weight=15, n_estimators=8;, score=0.767 total time=   0.5s\n",
      "[CV 3/3] END max_depth=15, min_child_weight=15, n_estimators=8;, score=0.765 total time=   0.5s\n",
      "[CV 1/3] END max_depth=15, min_child_weight=15, n_estimators=10;, score=0.756 total time=   0.5s\n",
      "[CV 2/3] END max_depth=15, min_child_weight=15, n_estimators=10;, score=0.767 total time=   0.6s\n",
      "[CV 3/3] END max_depth=15, min_child_weight=15, n_estimators=10;, score=0.766 total time=   0.6s\n",
      "[CV 1/3] END max_depth=15, min_child_weight=15, n_estimators=12;, score=0.754 total time=   0.7s\n",
      "[CV 2/3] END max_depth=15, min_child_weight=15, n_estimators=12;, score=0.767 total time=   0.7s\n",
      "[CV 3/3] END max_depth=15, min_child_weight=15, n_estimators=12;, score=0.766 total time=   0.8s\n",
      "[CV 1/3] END max_depth=15, min_child_weight=20, n_estimators=8;, score=0.754 total time=   0.6s\n",
      "[CV 2/3] END max_depth=15, min_child_weight=20, n_estimators=8;, score=0.763 total time=   0.4s\n",
      "[CV 3/3] END max_depth=15, min_child_weight=20, n_estimators=8;, score=0.770 total time=   0.4s\n",
      "[CV 1/3] END max_depth=15, min_child_weight=20, n_estimators=10;, score=0.758 total time=   0.5s\n",
      "[CV 2/3] END max_depth=15, min_child_weight=20, n_estimators=10;, score=0.764 total time=   0.5s\n",
      "[CV 3/3] END max_depth=15, min_child_weight=20, n_estimators=10;, score=0.771 total time=   0.6s\n",
      "[CV 1/3] END max_depth=15, min_child_weight=20, n_estimators=12;, score=0.757 total time=   0.6s\n",
      "[CV 2/3] END max_depth=15, min_child_weight=20, n_estimators=12;, score=0.764 total time=   0.7s\n",
      "[CV 3/3] END max_depth=15, min_child_weight=20, n_estimators=12;, score=0.772 total time=   0.7s\n",
      "[CV 1/3] END max_depth=15, min_child_weight=25, n_estimators=8;, score=0.753 total time=   0.5s\n",
      "[CV 2/3] END max_depth=15, min_child_weight=25, n_estimators=8;, score=0.766 total time=   0.5s\n",
      "[CV 3/3] END max_depth=15, min_child_weight=25, n_estimators=8;, score=0.770 total time=   0.5s\n",
      "[CV 1/3] END max_depth=15, min_child_weight=25, n_estimators=10;, score=0.753 total time=   0.7s\n",
      "[CV 2/3] END max_depth=15, min_child_weight=25, n_estimators=10;, score=0.764 total time=   0.5s\n",
      "[CV 3/3] END max_depth=15, min_child_weight=25, n_estimators=10;, score=0.771 total time=   0.6s\n",
      "[CV 1/3] END max_depth=15, min_child_weight=25, n_estimators=12;, score=0.754 total time=   0.7s\n",
      "[CV 2/3] END max_depth=15, min_child_weight=25, n_estimators=12;, score=0.764 total time=   0.6s\n",
      "[CV 3/3] END max_depth=15, min_child_weight=25, n_estimators=12;, score=0.770 total time=   0.6s\n",
      "...Done.\n",
      "Best hyperparameters :  {'max_depth': 14, 'min_child_weight': 20, 'n_estimators': 10}\n",
      "Best validation accuracy :  0.7647545630972892\n",
      "\n",
      "GridSearchCV\n",
      "f1-score on train set :  0.7682358249360806\n",
      "f1-score on test set :  0.7460890493381468\n"
     ]
    }
   ],
   "source": [
    "# Perform grid search\n",
    "print(\"Grid search...\")\n",
    "xgboost = XGBClassifier()\n",
    "\n",
    "# Grid of values to be tested\n",
    "params = {\n",
    "    'max_depth': [13, 14, 15],\n",
    "    'min_child_weight': [15, 20, 25],\n",
    "    'n_estimators': [8, 10, 12]\n",
    "}\n",
    "print(params)\n",
    "xgboost_opt = GridSearchCV(xgboost, param_grid = params, scoring='f1', cv = 3, verbose = 1) # cv : the number of folds to be used for CV\n",
    "xgboost_opt.fit(X_train, Y_train)\n",
    "print(\"...Done.\")\n",
    "print(\"Best hyperparameters : \", xgboost_opt.best_params_)\n",
    "print(\"Best validation accuracy : \", xgboost_opt.best_score_)\n",
    "print()\n",
    "get_f1_score(xgboost_opt)"
   ]
  },
  {
   "cell_type": "markdown",
   "metadata": {},
   "source": [
    "#### **Stacking**"
   ]
  },
  {
   "cell_type": "markdown",
   "metadata": {},
   "source": [
    "##### best models"
   ]
  },
  {
   "cell_type": "code",
   "execution_count": null,
   "metadata": {},
   "outputs": [],
   "source": [
    "stacking_classifier_best = StackingClassifier([('log_reg', model_3), ('gradientboost', model_5), ('xgboost', model_6)], final_estimator=KNeighborsClassifier())\n",
    "\n",
    "stacking_classifier_best.fit(X_train, Y_train)"
   ]
  },
  {
   "cell_type": "markdown",
   "metadata": {},
   "source": [
    "## Submission"
   ]
  },
  {
   "cell_type": "code",
   "execution_count": 22,
   "metadata": {},
   "outputs": [],
   "source": [
    "def retrain_and_submit(model, version=1):\n",
    "  print(model)\n",
    "  # Concatenate our train and test set to train your best classifier on all data with labels\n",
    "  X = np.append(X_train,X_test,axis=0)\n",
    "  Y = np.append(Y_train,Y_test)\n",
    "\n",
    "  model.fit(X,Y)\n",
    "\n",
    "  # Read data without labels\n",
    "  data_without_labels = pd.read_csv('data/conversion_data_test.csv')\n",
    "  print('Prediction set (without labels) :', data_without_labels.shape)\n",
    "\n",
    "  # apply the preprocessing\n",
    "  X_without_labels = preprocessor.transform(data_without_labels)\n",
    "  data = {\n",
    "    'converted': model.predict(X_without_labels)\n",
    "  }\n",
    "\n",
    "  Y_predictions = pd.DataFrame(columns=['converted'],data=data)\n",
    "  Y_predictions.to_csv(f'submissions/conversion_data_test_predictions_Alexon_V{version}.csv', index=False)\n",
    "  print('Done ....')"
   ]
  },
  {
   "cell_type": "code",
   "execution_count": 45,
   "metadata": {},
   "outputs": [
    {
     "name": "stdout",
     "output_type": "stream",
     "text": [
      "DecisionTreeClassifier(max_depth=10, min_samples_leaf=12)\n",
      "Prediction set (without labels) : (31620, 5)\n",
      "Done ....\n"
     ]
    }
   ],
   "source": [
    "retrain_and_submit(dt_opt.best_estimator_, version=5)"
   ]
  },
  {
   "cell_type": "code",
   "execution_count": 46,
   "metadata": {},
   "outputs": [
    {
     "name": "stdout",
     "output_type": "stream",
     "text": [
      "RandomForestClassifier(max_depth=8, min_samples_leaf=5, min_samples_split=4)\n",
      "Prediction set (without labels) : (31620, 5)\n",
      "Done ....\n"
     ]
    }
   ],
   "source": [
    "retrain_and_submit(random_forest_opt.best_estimator_, version=6)"
   ]
  },
  {
   "cell_type": "code",
   "execution_count": 54,
   "metadata": {},
   "outputs": [
    {
     "name": "stdout",
     "output_type": "stream",
     "text": [
      "AdaBoostClassifier(base_estimator=LogisticRegression(C=0.5, max_iter=1000),\n",
      "                   n_estimators=30)\n",
      "Prediction set (without labels) : (31620, 5)\n",
      "Done ....\n"
     ]
    }
   ],
   "source": [
    "retrain_and_submit(adaboost_log_reg_opt.best_estimator_, version=7)"
   ]
  },
  {
   "cell_type": "code",
   "execution_count": 55,
   "metadata": {},
   "outputs": [
    {
     "name": "stdout",
     "output_type": "stream",
     "text": [
      "AdaBoostClassifier(base_estimator=DecisionTreeClassifier(max_depth=8,\n",
      "                                                         min_samples_split=6),\n",
      "                   n_estimators=4)\n",
      "Prediction set (without labels) : (31620, 5)\n",
      "Done ....\n"
     ]
    }
   ],
   "source": [
    "retrain_and_submit(adaboost_dt_opt.best_estimator_, version=8)"
   ]
  },
  {
   "cell_type": "code",
   "execution_count": 66,
   "metadata": {},
   "outputs": [
    {
     "name": "stdout",
     "output_type": "stream",
     "text": [
      "GradientBoostingClassifier(max_depth=8, min_samples_leaf=2, min_samples_split=8,\n",
      "                           n_estimators=12)\n",
      "Prediction set (without labels) : (31620, 5)\n",
      "Done ....\n"
     ]
    }
   ],
   "source": [
    "retrain_and_submit(gradientboost_opt.best_estimator_, version=9)"
   ]
  },
  {
   "cell_type": "code",
   "execution_count": 67,
   "metadata": {},
   "outputs": [
    {
     "name": "stdout",
     "output_type": "stream",
     "text": [
      "XGBClassifier(base_score=0.5, booster='gbtree', callbacks=None,\n",
      "              colsample_bylevel=1, colsample_bynode=1, colsample_bytree=1,\n",
      "              early_stopping_rounds=None, enable_categorical=False,\n",
      "              eval_metric=None, gamma=0, gpu_id=-1, grow_policy='depthwise',\n",
      "              importance_type=None, interaction_constraints='',\n",
      "              learning_rate=0.300000012, max_bin=256, max_cat_to_onehot=4,\n",
      "              max_delta_step=0, max_depth=6, max_leaves=0, min_child_weight=2,\n",
      "              missing=nan, monotone_constraints='()', n_estimators=12, n_jobs=0,\n",
      "              num_parallel_tree=1, predictor='auto', random_state=0,\n",
      "              reg_alpha=0, reg_lambda=1, ...)\n",
      "Prediction set (without labels) : (31620, 5)\n",
      "Done ....\n"
     ]
    }
   ],
   "source": [
    "retrain_and_submit(xgboost_opt.best_estimator_, version=10)"
   ]
  },
  {
   "cell_type": "code",
   "execution_count": 69,
   "metadata": {},
   "outputs": [
    {
     "name": "stdout",
     "output_type": "stream",
     "text": [
      "AdaBoostClassifier(n_estimators=100)\n",
      "Prediction set (without labels) : (31620, 5)\n",
      "Done ....\n"
     ]
    }
   ],
   "source": [
    "retrain_and_submit(adaboost_model, version=11)"
   ]
  },
  {
   "cell_type": "code",
   "execution_count": 135,
   "metadata": {},
   "outputs": [
    {
     "name": "stdout",
     "output_type": "stream",
     "text": [
      "LGBMClassifier()\n",
      "Prediction set (without labels) : (31620, 5)\n",
      "Done ....\n",
      "LGBMClassifier\n",
      "f1-score on train set :  0.7719036611736634\n",
      "f1-score on test set :  0.7613941018766756\n"
     ]
    }
   ],
   "source": [
    "retrain_and_submit(model_9, version=12)\n",
    "\n",
    "get_f1_score(model_9)"
   ]
  },
  {
   "cell_type": "code",
   "execution_count": 96,
   "metadata": {},
   "outputs": [
    {
     "name": "stdout",
     "output_type": "stream",
     "text": [
      "XGBClassifier(base_score=0.5, booster='gbtree', callbacks=None,\n",
      "              colsample_bylevel=1, colsample_bynode=1, colsample_bytree=1,\n",
      "              early_stopping_rounds=None, enable_categorical=False,\n",
      "              eval_metric=None, gamma=0, gpu_id=-1, grow_policy='depthwise',\n",
      "              importance_type=None, interaction_constraints='',\n",
      "              learning_rate=0.300000012, max_bin=256, max_cat_to_onehot=4,\n",
      "              max_delta_step=0, max_depth=6, max_leaves=0, min_child_weight=1,\n",
      "              missing=nan, monotone_constraints='()', n_estimators=100,\n",
      "              n_jobs=0, num_parallel_tree=1, predictor='auto', random_state=0,\n",
      "              reg_alpha=0, reg_lambda=1, ...)\n",
      "Prediction set (without labels) : (31620, 5)\n",
      "Done ....\n",
      "XGBClassifier\n",
      "f1-score on train set :  0.7740918643050134\n",
      "f1-score on test set :  0.763221153846154\n"
     ]
    }
   ],
   "source": [
    "retrain_and_submit(xgboost_model, version=13)\n",
    "\n",
    "get_f1_score(xgboost_model)"
   ]
  },
  {
   "cell_type": "code",
   "execution_count": 136,
   "metadata": {},
   "outputs": [
    {
     "name": "stdout",
     "output_type": "stream",
     "text": [
      "VotingClassifier(estimators=[('Tree', DecisionTreeClassifier()),\n",
      "                             ('Forest', RandomForestClassifier()),\n",
      "                             ('log_reg', LogisticRegression()),\n",
      "                             ('adaboost', AdaBoostClassifier()),\n",
      "                             ('gradientboost', GradientBoostingClassifier()),\n",
      "                             ('xgboost',\n",
      "                              XGBClassifier(base_score=0.5, booster='gbtree',\n",
      "                                            callbacks=None, colsample_bylevel=1,\n",
      "                                            colsample_bynode=1,\n",
      "                                            colsample_bytree=1,\n",
      "                                            early_s...\n",
      "                                            learning_rate=0.300000012,\n",
      "                                            max_bin=256, max_cat_to_onehot=4,\n",
      "                                            max_delta_step=0, max_depth=6,\n",
      "                                            max_leaves=0, min_child_weight=1,\n",
      "                                            missing=nan,\n",
      "                                            monotone_constraints='()',\n",
      "                                            n_estimators=100, n_jobs=0,\n",
      "                                            num_parallel_tree=1,\n",
      "                                            predictor='auto', random_state=0,\n",
      "                                            reg_alpha=0, reg_lambda=1, ...)),\n",
      "                             ('sgdc', SGDClassifier()),\n",
      "                             ('kneighbors', KNeighborsClassifier()),\n",
      "                             ('lgbm', LGBMClassifier())])\n",
      "Prediction set (without labels) : (31620, 5)\n",
      "Done ....\n",
      "VotingClassifier\n",
      "f1-score on train set :  0.7736389684813754\n",
      "f1-score on test set :  0.7652383826191913\n"
     ]
    }
   ],
   "source": [
    "retrain_and_submit(voting_classifier, version='14_1')"
   ]
  },
  {
   "cell_type": "code",
   "execution_count": 140,
   "metadata": {},
   "outputs": [
    {
     "name": "stdout",
     "output_type": "stream",
     "text": [
      "VotingClassifier(estimators=[('log_reg', LogisticRegression()),\n",
      "                             ('gradientboost', GradientBoostingClassifier()),\n",
      "                             ('xgboost',\n",
      "                              XGBClassifier(base_score=0.5, booster='gbtree',\n",
      "                                            callbacks=None, colsample_bylevel=1,\n",
      "                                            colsample_bynode=1,\n",
      "                                            colsample_bytree=1,\n",
      "                                            early_stopping_rounds=None,\n",
      "                                            enable_categorical=False,\n",
      "                                            eval_metric=None, gamma=0,\n",
      "                                            gpu_id=-1, grow_policy='depthwise',\n",
      "                                            importance_type=None,\n",
      "                                            interaction_constraints='',\n",
      "                                            learning_rate=0.300000012,\n",
      "                                            max_bin=256, max_cat_to_onehot=4,\n",
      "                                            max_delta_step=0, max_depth=6,\n",
      "                                            max_leaves=0, min_child_weight=1,\n",
      "                                            missing=nan,\n",
      "                                            monotone_constraints='()',\n",
      "                                            n_estimators=100, n_jobs=0,\n",
      "                                            num_parallel_tree=1,\n",
      "                                            predictor='auto', random_state=0,\n",
      "                                            reg_alpha=0, reg_lambda=1, ...))])\n",
      "Prediction set (without labels) : (31620, 5)\n",
      "Done ....\n"
     ]
    }
   ],
   "source": [
    "retrain_and_submit(voting_classifier_best, version='14_2')"
   ]
  },
  {
   "cell_type": "code",
   "execution_count": 23,
   "metadata": {},
   "outputs": [
    {
     "name": "stdout",
     "output_type": "stream",
     "text": [
      "BaggingClassifier(base_estimator=KNeighborsClassifier(), n_estimators=5)\n",
      "Prediction set (without labels) : (31620, 5)\n",
      "Done ....\n"
     ]
    }
   ],
   "source": [
    "retrain_and_submit(bagging_kneighbors, version=15)"
   ]
  },
  {
   "cell_type": "code",
   "execution_count": 24,
   "metadata": {},
   "outputs": [
    {
     "name": "stdout",
     "output_type": "stream",
     "text": [
      "BaggingClassifier\n",
      "f1-score on train set :  0.7822664488341006\n",
      "f1-score on test set :  0.7696897374701671\n"
     ]
    }
   ],
   "source": [
    "get_f1_score(bagging_kneighbors)"
   ]
  }
 ],
 "metadata": {
  "kernelspec": {
   "display_name": "Python 3.9.12 ('base')",
   "language": "python",
   "name": "python3"
  },
  "language_info": {
   "codemirror_mode": {
    "name": "ipython",
    "version": 3
   },
   "file_extension": ".py",
   "mimetype": "text/x-python",
   "name": "python",
   "nbconvert_exporter": "python",
   "pygments_lexer": "ipython3",
   "version": "3.9.12"
  },
  "orig_nbformat": 4,
  "vscode": {
   "interpreter": {
    "hash": "c766f7c526f554c39534ac5a6b6631b3579ceeff597e65c8c23f9bc665d77d04"
   }
  }
 },
 "nbformat": 4,
 "nbformat_minor": 2
}
