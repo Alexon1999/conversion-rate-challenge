{
 "cells": [
  {
   "cell_type": "code",
   "execution_count": 41,
   "metadata": {},
   "outputs": [],
   "source": [
    "import pandas as pd\n",
    "import numpy as np\n",
    "\n",
    "from sklearn.model_selection import train_test_split, cross_val_score\n",
    "from sklearn.compose import ColumnTransformer\n",
    "from sklearn.pipeline import Pipeline\n",
    "from sklearn.preprocessing import StandardScaler, OneHotEncoder\n",
    "from sklearn.impute import SimpleImputer, KNNImputer\n",
    "from sklearn.linear_model import LogisticRegression, SGDClassifier\n",
    "from sklearn.tree import DecisionTreeClassifier\n",
    "from sklearn.svm import SVC\n",
    "from sklearn.model_selection import GridSearchCV\n",
    "from sklearn.ensemble import BaggingClassifier, AdaBoostClassifier, GradientBoostingClassifier, VotingClassifier, StackingClassifier, RandomForestClassifier\n",
    "from xgboost import XGBClassifier\n",
    "from lightgbm import LGBMClassifier\n",
    "from sklearn.neighbors import KNeighborsClassifier\n",
    "from sklearn.metrics import f1_score, confusion_matrix, ConfusionMatrixDisplay, classification_report\n",
    "import pickle\n",
    "import matplotlib.pyplot as plt\n",
    "import plotly.express as px\n",
    "import plotly.graph_objects as go\n",
    "import plotly.io as pio\n",
    "# setting Jedha color palette as default\n",
    "pio.templates[\"jedha\"] = go.layout.Template(\n",
    "    layout_colorway=[\"#4B9AC7\", \"#4BE8E0\", \"#9DD4F3\", \"#97FBF6\", \"#2A7FAF\", \"#23B1AB\", \"#0E3449\", \"#015955\"]\n",
    ")\n",
    "pio.templates.default = \"jedha\"\n",
    "pio.renderers.default = \"vscode\" # to be replaced by \"iframe\" if working on JULIE\n",
    "from IPython.display import display"
   ]
  },
  {
   "cell_type": "code",
   "execution_count": 12,
   "metadata": {},
   "outputs": [
    {
     "name": "stdout",
     "output_type": "stream",
     "text": [
      "Set with labels (our train+test) : (284580, 6)\n"
     ]
    }
   ],
   "source": [
    "data = pd.read_csv('data/conversion_data_train.csv')\n",
    "print('Set with labels (our train+test) :', data.shape)"
   ]
  },
  {
   "cell_type": "markdown",
   "metadata": {},
   "source": [
    "### Train and Test sets for models"
   ]
  },
  {
   "cell_type": "code",
   "execution_count": 13,
   "metadata": {},
   "outputs": [
    {
     "name": "stdout",
     "output_type": "stream",
     "text": [
      "Explanatory variables :  Index(['country', 'age', 'new_user', 'source', 'total_pages_visited'], dtype='object')\n",
      "Target variable : converted\n",
      "\n"
     ]
    }
   ],
   "source": [
    "target_variable = 'converted'\n",
    "\n",
    "X = data.drop(target_variable, axis=1)\n",
    "Y = data.loc[:, target_variable]\n",
    "\n",
    "print('Explanatory variables : ', X.columns)\n",
    "print('Target variable :', target_variable)\n",
    "print()"
   ]
  },
  {
   "cell_type": "code",
   "execution_count": 14,
   "metadata": {},
   "outputs": [
    {
     "name": "stdout",
     "output_type": "stream",
     "text": [
      "Dividing into train and test sets...\n",
      "...Done.\n",
      "\n"
     ]
    }
   ],
   "source": [
    "# Train set & Test set \n",
    "print(\"Dividing into train and test sets...\")\n",
    "X_train, X_test, Y_train, Y_test = train_test_split(X, Y, test_size=0.2, random_state=0, stratify=Y)\n",
    "print(\"...Done.\")\n",
    "print()"
   ]
  },
  {
   "cell_type": "markdown",
   "metadata": {},
   "source": [
    "## Preprocessing"
   ]
  },
  {
   "cell_type": "code",
   "execution_count": 15,
   "metadata": {},
   "outputs": [
    {
     "name": "stdout",
     "output_type": "stream",
     "text": [
      "Found numeric features  ['age', 'total_pages_visited']\n",
      "Found categorical features  ['new_user', 'country', 'source']\n"
     ]
    }
   ],
   "source": [
    "numeric_features = ['age', 'total_pages_visited']\n",
    "categorical_features = ['new_user', 'country', 'source']\n",
    "\n",
    "print('Found numeric features ', numeric_features)\n",
    "print('Found categorical features ', categorical_features)"
   ]
  },
  {
   "cell_type": "code",
   "execution_count": 16,
   "metadata": {},
   "outputs": [],
   "source": [
    "# Create pipeline for numeric features\n",
    "numeric_transformer = Pipeline(steps=[\n",
    "    ('imputer', KNNImputer()), \n",
    "    ('scaler', StandardScaler())\n",
    "])\n",
    "\n",
    "# Create pipeline for categorical features\n",
    "categorical_transformer = Pipeline(\n",
    "    steps=[\n",
    "    ('imputer', SimpleImputer(strategy='most_frequent')), # missing values will be replaced by most frequent value\n",
    "    ('encoder', OneHotEncoder(drop='first')) # first column will be dropped to avoid creating correlations between features\n",
    "    ])\n",
    "\n",
    "# Use ColumnTransformer to make a preprocessor object that describes all the treatments to be done\n",
    "preprocessor = ColumnTransformer(\n",
    "    transformers=[\n",
    "        ('num', numeric_transformer, numeric_features),\n",
    "        ('cat', categorical_transformer, categorical_features)\n",
    "    ])"
   ]
  },
  {
   "cell_type": "code",
   "execution_count": 17,
   "metadata": {},
   "outputs": [
    {
     "name": "stdout",
     "output_type": "stream",
     "text": [
      "Performing preprocessings on train set...\n",
      "       country  age  new_user  source  total_pages_visited\n",
      "137434   China   19         1     Seo                    1\n",
      "112323      US   33         1  Direct                    5\n",
      "143261      US   51         1     Ads                    2\n",
      "162328   China   17         0     Seo                    1\n",
      "158039   China   28         1     Seo                    5\n",
      "...Done.\n",
      "[[-1.3990984  -1.15935344  1.          0.          0.          0.\n",
      "   0.          1.        ]\n",
      " [ 0.29299544  0.03743241  1.          0.          0.          1.\n",
      "   1.          0.        ]\n",
      " [ 2.46854467 -0.86015697  1.          0.          0.          1.\n",
      "   0.          0.        ]\n",
      " [-1.64082609 -1.15935344  0.          0.          0.          0.\n",
      "   0.          1.        ]\n",
      " [-0.31132378  0.03743241  1.          0.          0.          0.\n",
      "   0.          1.        ]]\n",
      "\n",
      "Performing preprocessings on test set...\n",
      "       country  age  new_user  source  total_pages_visited\n",
      "138303      UK   34         1     Ads                    1\n",
      "133130      UK   32         0     Ads                    5\n",
      "245758      US   44         1     Ads                    1\n",
      "185267      US   35         1  Direct                    1\n",
      "177637      US   29         1  Direct                    3\n",
      "...Done.\n",
      "[[ 0.41385929 -1.15935344  1.          0.          1.          0.\n",
      "   0.          0.        ]\n",
      " [ 0.1721316   0.03743241  0.          0.          1.          0.\n",
      "   0.          0.        ]\n",
      " [ 1.62249775 -1.15935344  1.          0.          0.          1.\n",
      "   0.          0.        ]\n",
      " [ 0.53472314 -1.15935344  1.          0.          0.          1.\n",
      "   1.          0.        ]\n",
      " [-0.19045994 -0.56096051  1.          0.          0.          1.\n",
      "   1.          0.        ]]\n"
     ]
    }
   ],
   "source": [
    "# Preprocessings on train set\n",
    "print(\"Performing preprocessings on train set...\")\n",
    "print(X_train.head())\n",
    "X_train = preprocessor.fit_transform(X_train)\n",
    "print('...Done.')\n",
    "print(X_train[0:5]) \n",
    "print()\n",
    "\n",
    "# Preprocessings on test set\n",
    "print(\"Performing preprocessings on test set...\")\n",
    "print(X_test.head()) \n",
    "X_test = preprocessor.transform(X_test) # Don't fit again !! \n",
    "print('...Done.')\n",
    "print(X_test[0:5,:])"
   ]
  },
  {
   "cell_type": "markdown",
   "metadata": {},
   "source": [
    "## Performance assessment \n",
    "- f1_score, cross_val_score, confusion matrices, Feature Importance and Classification report"
   ]
  },
  {
   "cell_type": "code",
   "execution_count": 18,
   "metadata": {},
   "outputs": [],
   "source": [
    "def evaluate_performance(model):\n",
    "  Y_train_pred = model.predict(X_train)\n",
    "  Y_test_pred = model.predict(X_test)\n",
    "\n",
    "  # Here, the f1-score will be used to assess the performances on the leaderboard\n",
    "  print(model.__class__.__name__)\n",
    "  print(\"f1-score on train set : \", f1_score(Y_train, Y_train_pred))\n",
    "  print(\"f1-score on test set : \", f1_score(Y_test, Y_test_pred))\n",
    "  print()\n",
    "  \n",
    "  scores = cross_val_score(model, X_train, Y_train, cv=5, scoring='f1')\n",
    "  print('The cross-validated f1 score is : ', scores.mean())\n",
    "  print('The standard deviation is : ', scores.std())\n",
    "  print('is this model overfitting ? ', f1_score(Y_test, Y_test_pred) - f1_score(Y_train, Y_train_pred) > scores.std())\n",
    "\n",
    "  # Visualize confusion matrices\n",
    "  _, axes = plt.subplots(nrows=1, ncols=2, figsize=(10, 5))\n",
    "  axes[0].set(title=\"Confusion Matrix on Train set\") # Set a title that we will add into ConfusionMatrixDisplay\n",
    "  ConfusionMatrixDisplay.from_estimator(model, X_train, Y_train, ax=axes[0]) # ConfusionMatrixDisplay from sklearn\n",
    "\n",
    "  axes[1].set(title=\"Confusion Matrix on Test set\") # Set a title that we will add into ConfusionMatrixDisplay\n",
    "  ConfusionMatrixDisplay.from_estimator(model, X_test, Y_test, ax=axes[1]) # ConfusionMatrixDisplay from sklearn\n",
    "  plt.show()\n",
    "\n",
    "  # Feature Importance\n",
    "  # numeric_features +  encoded categorical column names\n",
    "  columns = np.append(numeric_features, preprocessor.transformers_[1][1]['encoder'].get_feature_names_out(categorical_features))\n",
    "  try:\n",
    "    coefs = pd.DataFrame(index=columns, data=model.coef_.transpose(), columns=['coefficients'] )\n",
    "    # Compute abs() and sort values\n",
    "    feature_importance = abs(coefs).sort_values(by = 'coefficients')\n",
    "    # Plot coefficients\n",
    "    fig = px.bar(feature_importance, orientation = 'h', title='Feature Importance')\n",
    "    fig.update_layout(showlegend = False, \n",
    "                      margin = {'l': 120} # to avoid cropping of column names\n",
    "                      )\n",
    "    fig.show()\n",
    "  except:\n",
    "    pass\n",
    "\n",
    "  # Classification report\n",
    "  print('classification_report on Train set')\n",
    "  print(classification_report(Y_train,Y_train_pred))\n",
    "  print('---')\n",
    "  print('classification_report on Test set')\n",
    "  print(classification_report(Y_test,Y_test_pred))"
   ]
  },
  {
   "cell_type": "code",
   "execution_count": 19,
   "metadata": {},
   "outputs": [],
   "source": [
    "def get_f1_score(model):\n",
    "  Y_train_pred = model.predict(X_train)\n",
    "  Y_test_pred = model.predict(X_test)\n",
    "\n",
    "  # Here, the f1-score will be used to assess the performances on the leaderboard\n",
    "  print(model.__class__.__name__)\n",
    "  print(\"f1-score on train set : \", f1_score(Y_train, Y_train_pred))\n",
    "  print(\"f1-score on test set : \", f1_score(Y_test, Y_test_pred))"
   ]
  },
  {
   "cell_type": "markdown",
   "metadata": {},
   "source": [
    "## Model"
   ]
  },
  {
   "cell_type": "markdown",
   "metadata": {},
   "source": [
    "#### **Bagging**"
   ]
  },
  {
   "cell_type": "markdown",
   "metadata": {},
   "source": [
    "##### RandomForest (with hyperparameter optimization)"
   ]
  },
  {
   "cell_type": "code",
   "execution_count": 36,
   "metadata": {},
   "outputs": [
    {
     "name": "stdout",
     "output_type": "stream",
     "text": [
      "Grid search...\n",
      "{'max_depth': [1200, 1250, 1300], 'min_samples_leaf': [14, 15, 16], 'min_samples_split': [3, 5, 8], 'n_estimators': [75, 100, 125]}\n",
      "Fitting 3 folds for each of 81 candidates, totalling 243 fits\n",
      "[CV 1/3] END max_depth=1200, min_samples_leaf=14, min_samples_split=3, n_estimators=75;, score=0.753 total time=   8.1s\n",
      "[CV 3/3] END max_depth=1200, min_samples_leaf=14, min_samples_split=3, n_estimators=75;, score=0.764 total time=   8.2s\n",
      "[CV 2/3] END max_depth=1200, min_samples_leaf=14, min_samples_split=3, n_estimators=75;, score=0.761 total time=   8.2s\n",
      "[CV 3/3] END max_depth=1200, min_samples_leaf=14, min_samples_split=3, n_estimators=100;, score=0.766 total time=  10.8s\n",
      "[CV 2/3] END max_depth=1200, min_samples_leaf=14, min_samples_split=3, n_estimators=100;, score=0.764 total time=  10.8s\n",
      "[CV 1/3] END max_depth=1200, min_samples_leaf=14, min_samples_split=3, n_estimators=100;, score=0.754 total time=  10.9s\n",
      "[CV 1/3] END max_depth=1200, min_samples_leaf=14, min_samples_split=3, n_estimators=125;, score=0.755 total time=  13.3s\n",
      "[CV 2/3] END max_depth=1200, min_samples_leaf=14, min_samples_split=3, n_estimators=125;, score=0.763 total time=  13.8s\n",
      "[CV 2/3] END max_depth=1200, min_samples_leaf=14, min_samples_split=5, n_estimators=75;, score=0.761 total time=   7.7s\n",
      "[CV 1/3] END max_depth=1200, min_samples_leaf=14, min_samples_split=5, n_estimators=75;, score=0.754 total time=   7.9s\n",
      "[CV 3/3] END max_depth=1200, min_samples_leaf=14, min_samples_split=5, n_estimators=75;, score=0.770 total time=   7.8s\n",
      "[CV 3/3] END max_depth=1200, min_samples_leaf=14, min_samples_split=3, n_estimators=125;, score=0.765 total time=  12.7s\n",
      "[CV 1/3] END max_depth=1200, min_samples_leaf=14, min_samples_split=5, n_estimators=100;, score=0.754 total time=  10.7s\n",
      "[CV 2/3] END max_depth=1200, min_samples_leaf=14, min_samples_split=5, n_estimators=100;, score=0.765 total time=  11.1s\n",
      "[CV 3/3] END max_depth=1200, min_samples_leaf=14, min_samples_split=5, n_estimators=100;, score=0.765 total time=  10.4s\n",
      "[CV 1/3] END max_depth=1200, min_samples_leaf=14, min_samples_split=5, n_estimators=125;, score=0.753 total time=  13.0s\n",
      "[CV 1/3] END max_depth=1200, min_samples_leaf=14, min_samples_split=8, n_estimators=75;, score=0.755 total time=   8.2s\n",
      "[CV 2/3] END max_depth=1200, min_samples_leaf=14, min_samples_split=8, n_estimators=75;, score=0.765 total time=   7.9s\n",
      "[CV 2/3] END max_depth=1200, min_samples_leaf=14, min_samples_split=5, n_estimators=125;, score=0.764 total time=  13.1s\n",
      "[CV 3/3] END max_depth=1200, min_samples_leaf=14, min_samples_split=5, n_estimators=125;, score=0.768 total time=  13.0s\n",
      "[CV 3/3] END max_depth=1200, min_samples_leaf=14, min_samples_split=8, n_estimators=75;, score=0.767 total time=   8.0s\n",
      "[CV 1/3] END max_depth=1200, min_samples_leaf=14, min_samples_split=8, n_estimators=100;, score=0.755 total time=  10.6s\n",
      "[CV 2/3] END max_depth=1200, min_samples_leaf=14, min_samples_split=8, n_estimators=100;, score=0.764 total time=  11.1s\n",
      "[CV 3/3] END max_depth=1200, min_samples_leaf=14, min_samples_split=8, n_estimators=100;, score=0.763 total time=  10.7s\n",
      "[CV 1/3] END max_depth=1200, min_samples_leaf=15, min_samples_split=3, n_estimators=75;, score=0.756 total time=   8.6s\n",
      "[CV 2/3] END max_depth=1200, min_samples_leaf=15, min_samples_split=3, n_estimators=75;, score=0.764 total time=   8.4s\n",
      "[CV 1/3] END max_depth=1200, min_samples_leaf=14, min_samples_split=8, n_estimators=125;, score=0.759 total time=  13.8s\n",
      "[CV 3/3] END max_depth=1200, min_samples_leaf=15, min_samples_split=3, n_estimators=75;, score=0.765 total time=   8.2s\n",
      "[CV 2/3] END max_depth=1200, min_samples_leaf=14, min_samples_split=8, n_estimators=125;, score=0.766 total time=  13.6s\n",
      "[CV 3/3] END max_depth=1200, min_samples_leaf=14, min_samples_split=8, n_estimators=125;, score=0.768 total time=  13.7s\n",
      "[CV 1/3] END max_depth=1200, min_samples_leaf=15, min_samples_split=3, n_estimators=100;, score=0.755 total time=  11.0s\n",
      "[CV 3/3] END max_depth=1200, min_samples_leaf=15, min_samples_split=3, n_estimators=100;, score=0.765 total time=  11.2s\n",
      "[CV 2/3] END max_depth=1200, min_samples_leaf=15, min_samples_split=3, n_estimators=100;, score=0.766 total time=  11.5s\n",
      "[CV 1/3] END max_depth=1200, min_samples_leaf=15, min_samples_split=5, n_estimators=75;, score=0.754 total time=   8.4s\n",
      "[CV 2/3] END max_depth=1200, min_samples_leaf=15, min_samples_split=5, n_estimators=75;, score=0.764 total time=   8.4s\n",
      "[CV 1/3] END max_depth=1200, min_samples_leaf=15, min_samples_split=3, n_estimators=125;, score=0.753 total time=  13.7s\n",
      "[CV 2/3] END max_depth=1200, min_samples_leaf=15, min_samples_split=3, n_estimators=125;, score=0.762 total time=  13.6s\n",
      "[CV 3/3] END max_depth=1200, min_samples_leaf=15, min_samples_split=5, n_estimators=75;, score=0.766 total time=   8.3s\n",
      "[CV 3/3] END max_depth=1200, min_samples_leaf=15, min_samples_split=3, n_estimators=125;, score=0.768 total time=  13.9s\n",
      "[CV 2/3] END max_depth=1200, min_samples_leaf=15, min_samples_split=5, n_estimators=100;, score=0.763 total time=  11.2s\n",
      "[CV 1/3] END max_depth=1200, min_samples_leaf=15, min_samples_split=5, n_estimators=100;, score=0.754 total time=  11.3s\n",
      "[CV 3/3] END max_depth=1200, min_samples_leaf=15, min_samples_split=5, n_estimators=100;, score=0.767 total time=  11.2s\n",
      "[CV 2/3] END max_depth=1200, min_samples_leaf=15, min_samples_split=8, n_estimators=75;, score=0.763 total time=   8.4s\n",
      "[CV 1/3] END max_depth=1200, min_samples_leaf=15, min_samples_split=8, n_estimators=75;, score=0.756 total time=   9.1s\n",
      "[CV 1/3] END max_depth=1200, min_samples_leaf=15, min_samples_split=5, n_estimators=125;, score=0.753 total time=  14.2s\n",
      "[CV 2/3] END max_depth=1200, min_samples_leaf=15, min_samples_split=5, n_estimators=125;, score=0.763 total time=  14.0s\n",
      "[CV 3/3] END max_depth=1200, min_samples_leaf=15, min_samples_split=5, n_estimators=125;, score=0.768 total time=  14.5s\n",
      "[CV 3/3] END max_depth=1200, min_samples_leaf=15, min_samples_split=8, n_estimators=75;, score=0.770 total time=   8.6s\n",
      "[CV 1/3] END max_depth=1200, min_samples_leaf=15, min_samples_split=8, n_estimators=100;, score=0.754 total time=  11.2s\n",
      "[CV 2/3] END max_depth=1200, min_samples_leaf=15, min_samples_split=8, n_estimators=100;, score=0.761 total time=  11.5s\n",
      "[CV 3/3] END max_depth=1200, min_samples_leaf=15, min_samples_split=8, n_estimators=100;, score=0.767 total time=  11.1s\n",
      "[CV 1/3] END max_depth=1200, min_samples_leaf=16, min_samples_split=3, n_estimators=75;, score=0.755 total time=   8.3s\n",
      "[CV 2/3] END max_depth=1200, min_samples_leaf=16, min_samples_split=3, n_estimators=75;, score=0.764 total time=   8.6s\n",
      "[CV 1/3] END max_depth=1200, min_samples_leaf=15, min_samples_split=8, n_estimators=125;, score=0.753 total time=  15.0s\n",
      "[CV 3/3] END max_depth=1200, min_samples_leaf=15, min_samples_split=8, n_estimators=125;, score=0.769 total time=  13.8s\n",
      "[CV 2/3] END max_depth=1200, min_samples_leaf=15, min_samples_split=8, n_estimators=125;, score=0.763 total time=  14.3s\n",
      "[CV 3/3] END max_depth=1200, min_samples_leaf=16, min_samples_split=3, n_estimators=75;, score=0.765 total time=   8.2s\n",
      "[CV 1/3] END max_depth=1200, min_samples_leaf=16, min_samples_split=3, n_estimators=100;, score=0.756 total time=  11.4s\n",
      "[CV 2/3] END max_depth=1200, min_samples_leaf=16, min_samples_split=3, n_estimators=100;, score=0.762 total time=  11.8s\n",
      "[CV 2/3] END max_depth=1200, min_samples_leaf=16, min_samples_split=5, n_estimators=75;, score=0.763 total time=   8.6s\n",
      "[CV 1/3] END max_depth=1200, min_samples_leaf=16, min_samples_split=5, n_estimators=75;, score=0.755 total time=   8.8s\n",
      "[CV 3/3] END max_depth=1200, min_samples_leaf=16, min_samples_split=3, n_estimators=100;, score=0.766 total time=  11.6s\n",
      "[CV 1/3] END max_depth=1200, min_samples_leaf=16, min_samples_split=3, n_estimators=125;, score=0.755 total time=  14.3s\n",
      "[CV 2/3] END max_depth=1200, min_samples_leaf=16, min_samples_split=3, n_estimators=125;, score=0.766 total time=  14.6s\n",
      "[CV 3/3] END max_depth=1200, min_samples_leaf=16, min_samples_split=5, n_estimators=75;, score=0.769 total time=   9.0s\n",
      "[CV 3/3] END max_depth=1200, min_samples_leaf=16, min_samples_split=3, n_estimators=125;, score=0.765 total time=  14.7s\n",
      "[CV 1/3] END max_depth=1200, min_samples_leaf=16, min_samples_split=5, n_estimators=100;, score=0.754 total time=  11.7s\n",
      "[CV 3/3] END max_depth=1200, min_samples_leaf=16, min_samples_split=5, n_estimators=100;, score=0.768 total time=  11.3s\n",
      "[CV 2/3] END max_depth=1200, min_samples_leaf=16, min_samples_split=5, n_estimators=100;, score=0.764 total time=  11.6s\n",
      "[CV 1/3] END max_depth=1200, min_samples_leaf=16, min_samples_split=8, n_estimators=75;, score=0.754 total time=   8.6s\n",
      "[CV 2/3] END max_depth=1200, min_samples_leaf=16, min_samples_split=8, n_estimators=75;, score=0.764 total time=   8.9s\n",
      "[CV 1/3] END max_depth=1200, min_samples_leaf=16, min_samples_split=5, n_estimators=125;, score=0.754 total time=  14.7s\n",
      "[CV 2/3] END max_depth=1200, min_samples_leaf=16, min_samples_split=5, n_estimators=125;, score=0.761 total time=  14.3s\n",
      "[CV 3/3] END max_depth=1200, min_samples_leaf=16, min_samples_split=8, n_estimators=75;, score=0.768 total time=   8.8s\n",
      "[CV 3/3] END max_depth=1200, min_samples_leaf=16, min_samples_split=5, n_estimators=125;, score=0.766 total time=  14.8s\n",
      "[CV 1/3] END max_depth=1200, min_samples_leaf=16, min_samples_split=8, n_estimators=100;, score=0.755 total time=  11.8s\n",
      "[CV 2/3] END max_depth=1200, min_samples_leaf=16, min_samples_split=8, n_estimators=100;, score=0.760 total time=  11.8s\n",
      "[CV 3/3] END max_depth=1200, min_samples_leaf=16, min_samples_split=8, n_estimators=100;, score=0.766 total time=  12.0s\n",
      "[CV 1/3] END max_depth=1250, min_samples_leaf=14, min_samples_split=3, n_estimators=75;, score=0.755 total time=   8.9s\n",
      "[CV 2/3] END max_depth=1250, min_samples_leaf=14, min_samples_split=3, n_estimators=75;, score=0.764 total time=   8.8s\n",
      "[CV 1/3] END max_depth=1200, min_samples_leaf=16, min_samples_split=8, n_estimators=125;, score=0.754 total time=  14.5s\n",
      "[CV 2/3] END max_depth=1200, min_samples_leaf=16, min_samples_split=8, n_estimators=125;, score=0.762 total time=  14.6s\n",
      "[CV 3/3] END max_depth=1250, min_samples_leaf=14, min_samples_split=3, n_estimators=75;, score=0.767 total time=   8.5s\n",
      "[CV 3/3] END max_depth=1200, min_samples_leaf=16, min_samples_split=8, n_estimators=125;, score=0.766 total time=  14.5s\n",
      "[CV 1/3] END max_depth=1250, min_samples_leaf=14, min_samples_split=3, n_estimators=100;, score=0.754 total time=  11.4s\n",
      "[CV 2/3] END max_depth=1250, min_samples_leaf=14, min_samples_split=3, n_estimators=100;, score=0.763 total time=  11.9s\n",
      "[CV 3/3] END max_depth=1250, min_samples_leaf=14, min_samples_split=3, n_estimators=100;, score=0.767 total time=  11.7s\n",
      "[CV 1/3] END max_depth=1250, min_samples_leaf=14, min_samples_split=5, n_estimators=75;, score=0.755 total time=   9.1s\n",
      "[CV 2/3] END max_depth=1250, min_samples_leaf=14, min_samples_split=5, n_estimators=75;, score=0.766 total time=   9.0s\n",
      "[CV 1/3] END max_depth=1250, min_samples_leaf=14, min_samples_split=3, n_estimators=125;, score=0.753 total time=  14.9s\n",
      "[CV 2/3] END max_depth=1250, min_samples_leaf=14, min_samples_split=3, n_estimators=125;, score=0.764 total time=  14.2s\n",
      "[CV 3/3] END max_depth=1250, min_samples_leaf=14, min_samples_split=5, n_estimators=75;, score=0.767 total time=   9.1s\n",
      "[CV 3/3] END max_depth=1250, min_samples_leaf=14, min_samples_split=3, n_estimators=125;, score=0.765 total time=  14.6s\n",
      "[CV 1/3] END max_depth=1250, min_samples_leaf=14, min_samples_split=5, n_estimators=100;, score=0.754 total time= 3.2min\n",
      "[CV 2/3] END max_depth=1250, min_samples_leaf=14, min_samples_split=5, n_estimators=100;, score=0.764 total time= 3.2min\n",
      "[CV 3/3] END max_depth=1250, min_samples_leaf=14, min_samples_split=5, n_estimators=100;, score=0.769 total time= 3.2min\n",
      "[CV 1/3] END max_depth=1250, min_samples_leaf=14, min_samples_split=8, n_estimators=75;, score=0.754 total time= 3.2min\n",
      "[CV 2/3] END max_depth=1250, min_samples_leaf=14, min_samples_split=8, n_estimators=75;, score=0.764 total time= 3.2min\n",
      "[CV 1/3] END max_depth=1250, min_samples_leaf=14, min_samples_split=5, n_estimators=125;, score=0.754 total time= 3.3min\n",
      "[CV 2/3] END max_depth=1250, min_samples_leaf=14, min_samples_split=5, n_estimators=125;, score=0.763 total time= 3.3min\n",
      "[CV 3/3] END max_depth=1250, min_samples_leaf=14, min_samples_split=5, n_estimators=125;, score=0.766 total time= 3.3min\n",
      "[CV 3/3] END max_depth=1250, min_samples_leaf=14, min_samples_split=8, n_estimators=75;, score=0.768 total time=   8.8s\n",
      "[CV 1/3] END max_depth=1250, min_samples_leaf=14, min_samples_split=8, n_estimators=100;, score=0.755 total time=  11.1s\n",
      "[CV 2/3] END max_depth=1250, min_samples_leaf=14, min_samples_split=8, n_estimators=100;, score=0.765 total time=  11.1s\n",
      "[CV 3/3] END max_depth=1250, min_samples_leaf=14, min_samples_split=8, n_estimators=100;, score=0.769 total time=  11.0s\n",
      "[CV 1/3] END max_depth=1250, min_samples_leaf=15, min_samples_split=3, n_estimators=75;, score=0.754 total time=   8.2s\n",
      "[CV 2/3] END max_depth=1250, min_samples_leaf=15, min_samples_split=3, n_estimators=75;, score=0.762 total time=   7.8s\n",
      "[CV 1/3] END max_depth=1250, min_samples_leaf=14, min_samples_split=8, n_estimators=125;, score=0.754 total time=  13.5s\n",
      "[CV 3/3] END max_depth=1250, min_samples_leaf=15, min_samples_split=3, n_estimators=75;, score=0.766 total time=   7.9s\n",
      "[CV 2/3] END max_depth=1250, min_samples_leaf=14, min_samples_split=8, n_estimators=125;, score=0.763 total time=  13.4s\n",
      "[CV 3/3] END max_depth=1250, min_samples_leaf=14, min_samples_split=8, n_estimators=125;, score=0.766 total time=  13.6s\n",
      "[CV 1/3] END max_depth=1250, min_samples_leaf=15, min_samples_split=3, n_estimators=100;, score=0.754 total time=  10.3s\n",
      "[CV 2/3] END max_depth=1250, min_samples_leaf=15, min_samples_split=3, n_estimators=100;, score=0.765 total time=  10.3s\n",
      "[CV 3/3] END max_depth=1250, min_samples_leaf=15, min_samples_split=3, n_estimators=100;, score=0.768 total time=  10.3s\n",
      "[CV 1/3] END max_depth=1250, min_samples_leaf=15, min_samples_split=5, n_estimators=75;, score=0.754 total time=   7.9s\n",
      "[CV 2/3] END max_depth=1250, min_samples_leaf=15, min_samples_split=5, n_estimators=75;, score=0.763 total time=   8.0s\n",
      "[CV 2/3] END max_depth=1250, min_samples_leaf=15, min_samples_split=3, n_estimators=125;, score=0.762 total time=  13.0s\n",
      "[CV 1/3] END max_depth=1250, min_samples_leaf=15, min_samples_split=3, n_estimators=125;, score=0.753 total time=  13.2s\n",
      "[CV 3/3] END max_depth=1250, min_samples_leaf=15, min_samples_split=5, n_estimators=75;, score=0.766 total time=   7.6s\n",
      "[CV 3/3] END max_depth=1250, min_samples_leaf=15, min_samples_split=3, n_estimators=125;, score=0.768 total time=  12.8s\n",
      "[CV 1/3] END max_depth=1250, min_samples_leaf=15, min_samples_split=5, n_estimators=100;, score=0.755 total time=  10.2s\n",
      "[CV 2/3] END max_depth=1250, min_samples_leaf=15, min_samples_split=5, n_estimators=100;, score=0.763 total time=  10.2s\n",
      "[CV 3/3] END max_depth=1250, min_samples_leaf=15, min_samples_split=5, n_estimators=100;, score=0.769 total time=  10.1s\n",
      "[CV 1/3] END max_depth=1250, min_samples_leaf=15, min_samples_split=8, n_estimators=75;, score=0.755 total time=   7.9s\n",
      "[CV 2/3] END max_depth=1250, min_samples_leaf=15, min_samples_split=8, n_estimators=75;, score=0.763 total time=   8.0s\n",
      "[CV 3/3] END max_depth=1250, min_samples_leaf=15, min_samples_split=8, n_estimators=75;, score=0.768 total time=   8.0s\n",
      "[CV 2/3] END max_depth=1250, min_samples_leaf=15, min_samples_split=5, n_estimators=125;, score=0.763 total time=  13.0s\n",
      "[CV 1/3] END max_depth=1250, min_samples_leaf=15, min_samples_split=5, n_estimators=125;, score=0.752 total time=  13.3s\n",
      "[CV 3/3] END max_depth=1250, min_samples_leaf=15, min_samples_split=5, n_estimators=125;, score=0.769 total time=  13.2s\n",
      "[CV 1/3] END max_depth=1250, min_samples_leaf=15, min_samples_split=8, n_estimators=100;, score=0.756 total time=  10.3s\n",
      "[CV 2/3] END max_depth=1250, min_samples_leaf=15, min_samples_split=8, n_estimators=100;, score=0.761 total time=  10.6s\n",
      "[CV 3/3] END max_depth=1250, min_samples_leaf=15, min_samples_split=8, n_estimators=100;, score=0.766 total time=  10.7s\n",
      "[CV 1/3] END max_depth=1250, min_samples_leaf=16, min_samples_split=3, n_estimators=75;, score=0.752 total time=   8.1s\n",
      "[CV 2/3] END max_depth=1250, min_samples_leaf=16, min_samples_split=3, n_estimators=75;, score=0.762 total time=   8.1s\n",
      "[CV 1/3] END max_depth=1250, min_samples_leaf=15, min_samples_split=8, n_estimators=125;, score=0.755 total time=  13.0s\n",
      "[CV 3/3] END max_depth=1250, min_samples_leaf=16, min_samples_split=3, n_estimators=75;, score=0.770 total time=   8.2s\n",
      "[CV 2/3] END max_depth=1250, min_samples_leaf=15, min_samples_split=8, n_estimators=125;, score=0.763 total time=  13.5s\n",
      "[CV 3/3] END max_depth=1250, min_samples_leaf=15, min_samples_split=8, n_estimators=125;, score=0.767 total time=  14.0s\n",
      "[CV 1/3] END max_depth=1250, min_samples_leaf=16, min_samples_split=3, n_estimators=100;, score=0.754 total time=  10.9s\n",
      "[CV 2/3] END max_depth=1250, min_samples_leaf=16, min_samples_split=3, n_estimators=100;, score=0.762 total time=  10.8s\n",
      "[CV 3/3] END max_depth=1250, min_samples_leaf=16, min_samples_split=3, n_estimators=100;, score=0.767 total time=  11.0s\n",
      "[CV 1/3] END max_depth=1250, min_samples_leaf=16, min_samples_split=3, n_estimators=125;, score=0.754 total time=  13.3s\n",
      "[CV 1/3] END max_depth=1250, min_samples_leaf=16, min_samples_split=5, n_estimators=75;, score=0.757 total time=   8.8s\n",
      "[CV 2/3] END max_depth=1250, min_samples_leaf=16, min_samples_split=5, n_estimators=75;, score=0.763 total time=   8.4s\n",
      "[CV 2/3] END max_depth=1250, min_samples_leaf=16, min_samples_split=3, n_estimators=125;, score=0.763 total time=  13.9s\n",
      "[CV 3/3] END max_depth=1250, min_samples_leaf=16, min_samples_split=5, n_estimators=75;, score=0.768 total time=   8.2s\n",
      "[CV 3/3] END max_depth=1250, min_samples_leaf=16, min_samples_split=3, n_estimators=125;, score=0.768 total time=  14.7s\n",
      "[CV 1/3] END max_depth=1250, min_samples_leaf=16, min_samples_split=5, n_estimators=100;, score=0.754 total time=  11.5s\n",
      "[CV 2/3] END max_depth=1250, min_samples_leaf=16, min_samples_split=5, n_estimators=100;, score=0.762 total time=  11.1s\n",
      "[CV 3/3] END max_depth=1250, min_samples_leaf=16, min_samples_split=5, n_estimators=100;, score=0.767 total time=  11.1s\n",
      "[CV 1/3] END max_depth=1250, min_samples_leaf=16, min_samples_split=8, n_estimators=75;, score=0.752 total time=   8.7s\n",
      "[CV 2/3] END max_depth=1250, min_samples_leaf=16, min_samples_split=8, n_estimators=75;, score=0.762 total time=   8.7s\n",
      "[CV 1/3] END max_depth=1250, min_samples_leaf=16, min_samples_split=5, n_estimators=125;, score=0.756 total time=  14.3s\n",
      "[CV 2/3] END max_depth=1250, min_samples_leaf=16, min_samples_split=5, n_estimators=125;, score=0.761 total time=  14.2s\n",
      "[CV 3/3] END max_depth=1250, min_samples_leaf=16, min_samples_split=5, n_estimators=125;, score=0.766 total time=  14.0s\n",
      "[CV 3/3] END max_depth=1250, min_samples_leaf=16, min_samples_split=8, n_estimators=75;, score=0.765 total time=   8.3s\n",
      "[CV 1/3] END max_depth=1250, min_samples_leaf=16, min_samples_split=8, n_estimators=100;, score=0.754 total time=  11.3s\n",
      "[CV 2/3] END max_depth=1250, min_samples_leaf=16, min_samples_split=8, n_estimators=100;, score=0.764 total time=  11.5s\n",
      "[CV 3/3] END max_depth=1250, min_samples_leaf=16, min_samples_split=8, n_estimators=100;, score=0.767 total time=  11.6s\n",
      "[CV 1/3] END max_depth=1300, min_samples_leaf=14, min_samples_split=3, n_estimators=75;, score=0.756 total time=   8.2s\n",
      "[CV 2/3] END max_depth=1300, min_samples_leaf=14, min_samples_split=3, n_estimators=75;, score=0.764 total time=   8.4s\n",
      "[CV 1/3] END max_depth=1250, min_samples_leaf=16, min_samples_split=8, n_estimators=125;, score=0.756 total time=  14.3s\n",
      "[CV 3/3] END max_depth=1300, min_samples_leaf=14, min_samples_split=3, n_estimators=75;, score=0.768 total time=   8.7s\n",
      "[CV 3/3] END max_depth=1250, min_samples_leaf=16, min_samples_split=8, n_estimators=125;, score=0.764 total time=  14.0s\n",
      "[CV 2/3] END max_depth=1250, min_samples_leaf=16, min_samples_split=8, n_estimators=125;, score=0.763 total time=  14.2s\n",
      "[CV 1/3] END max_depth=1300, min_samples_leaf=14, min_samples_split=3, n_estimators=100;, score=0.755 total time=  11.8s\n",
      "[CV 2/3] END max_depth=1300, min_samples_leaf=14, min_samples_split=3, n_estimators=100;, score=0.762 total time=  11.3s\n",
      "[CV 3/3] END max_depth=1300, min_samples_leaf=14, min_samples_split=3, n_estimators=100;, score=0.770 total time=  12.0s\n",
      "[CV 1/3] END max_depth=1300, min_samples_leaf=14, min_samples_split=5, n_estimators=75;, score=0.754 total time=   9.3s\n",
      "[CV 2/3] END max_depth=1300, min_samples_leaf=14, min_samples_split=5, n_estimators=75;, score=0.763 total time=   9.5s\n",
      "[CV 1/3] END max_depth=1300, min_samples_leaf=14, min_samples_split=3, n_estimators=125;, score=0.755 total time=  14.8s\n",
      "[CV 2/3] END max_depth=1300, min_samples_leaf=14, min_samples_split=3, n_estimators=125;, score=0.762 total time=  15.2s\n",
      "[CV 3/3] END max_depth=1300, min_samples_leaf=14, min_samples_split=3, n_estimators=125;, score=0.765 total time=  15.2s\n",
      "[CV 3/3] END max_depth=1300, min_samples_leaf=14, min_samples_split=5, n_estimators=75;, score=0.768 total time=   9.5s\n",
      "[CV 1/3] END max_depth=1300, min_samples_leaf=14, min_samples_split=5, n_estimators=100;, score=0.755 total time=  12.5s\n",
      "[CV 2/3] END max_depth=1300, min_samples_leaf=14, min_samples_split=5, n_estimators=100;, score=0.760 total time=  12.7s\n",
      "[CV 3/3] END max_depth=1300, min_samples_leaf=14, min_samples_split=5, n_estimators=100;, score=0.768 total time=  12.3s\n",
      "[CV 1/3] END max_depth=1300, min_samples_leaf=14, min_samples_split=5, n_estimators=125;, score=0.755 total time=  15.1s\n",
      "[CV 1/3] END max_depth=1300, min_samples_leaf=14, min_samples_split=8, n_estimators=75;, score=0.757 total time=   9.7s\n",
      "[CV 2/3] END max_depth=1300, min_samples_leaf=14, min_samples_split=8, n_estimators=75;, score=0.764 total time=   9.4s\n",
      "[CV 2/3] END max_depth=1300, min_samples_leaf=14, min_samples_split=5, n_estimators=125;, score=0.764 total time=  16.0s\n",
      "[CV 3/3] END max_depth=1300, min_samples_leaf=14, min_samples_split=8, n_estimators=75;, score=0.766 total time=   9.7s\n",
      "[CV 3/3] END max_depth=1300, min_samples_leaf=14, min_samples_split=5, n_estimators=125;, score=0.764 total time=  15.7s\n",
      "[CV 1/3] END max_depth=1300, min_samples_leaf=14, min_samples_split=8, n_estimators=100;, score=0.754 total time=  12.5s\n",
      "[CV 2/3] END max_depth=1300, min_samples_leaf=14, min_samples_split=8, n_estimators=100;, score=0.764 total time=  13.0s\n",
      "[CV 3/3] END max_depth=1300, min_samples_leaf=14, min_samples_split=8, n_estimators=100;, score=0.769 total time=  12.4s\n",
      "[CV 1/3] END max_depth=1300, min_samples_leaf=15, min_samples_split=3, n_estimators=75;, score=0.753 total time=   9.6s\n",
      "[CV 2/3] END max_depth=1300, min_samples_leaf=15, min_samples_split=3, n_estimators=75;, score=0.764 total time=   9.7s\n",
      "[CV 1/3] END max_depth=1300, min_samples_leaf=14, min_samples_split=8, n_estimators=125;, score=0.757 total time=  15.6s\n",
      "[CV 2/3] END max_depth=1300, min_samples_leaf=14, min_samples_split=8, n_estimators=125;, score=0.765 total time=  15.6s\n",
      "[CV 3/3] END max_depth=1300, min_samples_leaf=15, min_samples_split=3, n_estimators=75;, score=0.767 total time=   9.5s\n",
      "[CV 3/3] END max_depth=1300, min_samples_leaf=14, min_samples_split=8, n_estimators=125;, score=0.769 total time=  15.9s\n",
      "[CV 1/3] END max_depth=1300, min_samples_leaf=15, min_samples_split=3, n_estimators=100;, score=0.754 total time=  12.7s\n",
      "[CV 2/3] END max_depth=1300, min_samples_leaf=15, min_samples_split=3, n_estimators=100;, score=0.762 total time=  12.1s\n",
      "[CV 3/3] END max_depth=1300, min_samples_leaf=15, min_samples_split=3, n_estimators=100;, score=0.765 total time=  12.7s\n",
      "[CV 1/3] END max_depth=1300, min_samples_leaf=15, min_samples_split=5, n_estimators=75;, score=0.755 total time=   9.2s\n",
      "[CV 2/3] END max_depth=1300, min_samples_leaf=15, min_samples_split=5, n_estimators=75;, score=0.765 total time=   9.1s\n",
      "[CV 3/3] END max_depth=1300, min_samples_leaf=15, min_samples_split=3, n_estimators=125;, score=0.770 total time=  14.8s\n",
      "[CV 1/3] END max_depth=1300, min_samples_leaf=15, min_samples_split=3, n_estimators=125;, score=0.754 total time=  15.0s\n",
      "[CV 2/3] END max_depth=1300, min_samples_leaf=15, min_samples_split=3, n_estimators=125;, score=0.761 total time=  15.6s\n",
      "[CV 3/3] END max_depth=1300, min_samples_leaf=15, min_samples_split=5, n_estimators=75;, score=0.768 total time=   9.0s\n",
      "[CV 1/3] END max_depth=1300, min_samples_leaf=15, min_samples_split=5, n_estimators=100;, score=0.754 total time=  12.0s\n",
      "[CV 2/3] END max_depth=1300, min_samples_leaf=15, min_samples_split=5, n_estimators=100;, score=0.766 total time=  12.0s\n",
      "[CV 3/3] END max_depth=1300, min_samples_leaf=15, min_samples_split=5, n_estimators=100;, score=0.768 total time=  11.3s\n",
      "[CV 1/3] END max_depth=1300, min_samples_leaf=15, min_samples_split=8, n_estimators=75;, score=0.754 total time=   8.6s\n",
      "[CV 2/3] END max_depth=1300, min_samples_leaf=15, min_samples_split=8, n_estimators=75;, score=0.764 total time=   8.8s\n",
      "[CV 1/3] END max_depth=1300, min_samples_leaf=15, min_samples_split=5, n_estimators=125;, score=0.755 total time=  14.6s\n",
      "[CV 2/3] END max_depth=1300, min_samples_leaf=15, min_samples_split=5, n_estimators=125;, score=0.763 total time=  14.9s\n",
      "[CV 3/3] END max_depth=1300, min_samples_leaf=15, min_samples_split=8, n_estimators=75;, score=0.766 total time=   8.8s\n",
      "[CV 3/3] END max_depth=1300, min_samples_leaf=15, min_samples_split=5, n_estimators=125;, score=0.770 total time=  15.0s\n",
      "[CV 1/3] END max_depth=1300, min_samples_leaf=15, min_samples_split=8, n_estimators=100;, score=0.752 total time=  11.5s\n",
      "[CV 2/3] END max_depth=1300, min_samples_leaf=15, min_samples_split=8, n_estimators=100;, score=0.765 total time=  11.7s\n",
      "[CV 3/3] END max_depth=1300, min_samples_leaf=15, min_samples_split=8, n_estimators=100;, score=0.771 total time=  11.9s\n",
      "[CV 1/3] END max_depth=1300, min_samples_leaf=16, min_samples_split=3, n_estimators=75;, score=0.753 total time=   8.7s\n",
      "[CV 2/3] END max_depth=1300, min_samples_leaf=16, min_samples_split=3, n_estimators=75;, score=0.762 total time=   9.0s\n",
      "[CV 1/3] END max_depth=1300, min_samples_leaf=15, min_samples_split=8, n_estimators=125;, score=0.754 total time=  14.4s\n",
      "[CV 2/3] END max_depth=1300, min_samples_leaf=15, min_samples_split=8, n_estimators=125;, score=0.763 total time=  14.2s\n",
      "[CV 3/3] END max_depth=1300, min_samples_leaf=16, min_samples_split=3, n_estimators=75;, score=0.767 total time=   8.6s\n",
      "[CV 3/3] END max_depth=1300, min_samples_leaf=15, min_samples_split=8, n_estimators=125;, score=0.767 total time=  14.4s\n",
      "[CV 1/3] END max_depth=1300, min_samples_leaf=16, min_samples_split=3, n_estimators=100;, score=0.754 total time=  11.9s\n",
      "[CV 2/3] END max_depth=1300, min_samples_leaf=16, min_samples_split=3, n_estimators=100;, score=0.765 total time=  11.5s\n",
      "[CV 3/3] END max_depth=1300, min_samples_leaf=16, min_samples_split=3, n_estimators=100;, score=0.769 total time=  11.9s\n",
      "[CV 1/3] END max_depth=1300, min_samples_leaf=16, min_samples_split=5, n_estimators=75;, score=0.756 total time=   8.8s\n",
      "[CV 1/3] END max_depth=1300, min_samples_leaf=16, min_samples_split=3, n_estimators=125;, score=0.755 total time=  14.4s\n",
      "[CV 2/3] END max_depth=1300, min_samples_leaf=16, min_samples_split=5, n_estimators=75;, score=0.762 total time=   9.1s\n",
      "[CV 2/3] END max_depth=1300, min_samples_leaf=16, min_samples_split=3, n_estimators=125;, score=0.764 total time=  14.9s\n",
      "[CV 3/3] END max_depth=1300, min_samples_leaf=16, min_samples_split=3, n_estimators=125;, score=0.766 total time=  14.5s\n",
      "[CV 3/3] END max_depth=1300, min_samples_leaf=16, min_samples_split=5, n_estimators=75;, score=0.764 total time=   8.6s\n",
      "[CV 1/3] END max_depth=1300, min_samples_leaf=16, min_samples_split=5, n_estimators=100;, score=0.753 total time=  12.6s\n",
      "[CV 2/3] END max_depth=1300, min_samples_leaf=16, min_samples_split=5, n_estimators=100;, score=0.762 total time=  11.7s\n",
      "[CV 3/3] END max_depth=1300, min_samples_leaf=16, min_samples_split=5, n_estimators=100;, score=0.768 total time=  11.7s\n",
      "[CV 2/3] END max_depth=1300, min_samples_leaf=16, min_samples_split=8, n_estimators=75;, score=0.761 total time=   8.6s\n",
      "[CV 1/3] END max_depth=1300, min_samples_leaf=16, min_samples_split=8, n_estimators=75;, score=0.755 total time=   8.8s\n",
      "[CV 2/3] END max_depth=1300, min_samples_leaf=16, min_samples_split=5, n_estimators=125;, score=0.762 total time=  14.4s\n",
      "[CV 1/3] END max_depth=1300, min_samples_leaf=16, min_samples_split=5, n_estimators=125;, score=0.754 total time=  14.4s\n",
      "[CV 3/3] END max_depth=1300, min_samples_leaf=16, min_samples_split=5, n_estimators=125;, score=0.769 total time=  15.1s\n",
      "[CV 3/3] END max_depth=1300, min_samples_leaf=16, min_samples_split=8, n_estimators=75;, score=0.766 total time=   9.0s\n",
      "[CV 1/3] END max_depth=1300, min_samples_leaf=16, min_samples_split=8, n_estimators=100;, score=0.753 total time=  10.4s\n",
      "[CV 2/3] END max_depth=1300, min_samples_leaf=16, min_samples_split=8, n_estimators=100;, score=0.761 total time=  10.7s\n",
      "[CV 3/3] END max_depth=1300, min_samples_leaf=16, min_samples_split=8, n_estimators=100;, score=0.768 total time=  10.3s\n",
      "[CV 1/3] END max_depth=1300, min_samples_leaf=16, min_samples_split=8, n_estimators=125;, score=0.755 total time=  11.9s\n",
      "[CV 3/3] END max_depth=1300, min_samples_leaf=16, min_samples_split=8, n_estimators=125;, score=0.767 total time=   9.5s\n",
      "[CV 2/3] END max_depth=1300, min_samples_leaf=16, min_samples_split=8, n_estimators=125;, score=0.763 total time=   9.6s\n",
      "...Done.\n",
      "\n",
      "GridSearchCV\n",
      "f1-score on train set :  0.7733953209358129\n",
      "f1-score on test set :  0.7446744674467446\n"
     ]
    }
   ],
   "source": [
    "# Perform grid search\n",
    "print(\"Grid search...\")\n",
    "random_forest = RandomForestClassifier()\n",
    "\n",
    "# Grid of values to be tested\n",
    "params = {\n",
    "    # 'max_depth': [10, 100, 1000],\n",
    "    # 'min_samples_leaf': [5, 10, 15],\n",
    "    # 'min_samples_split': [5, 10, 15],\n",
    "    # 'n_estimators': [1, 10, 100]\n",
    "\n",
    "    # on réduit à\n",
    "    'max_depth': [1200, 1250, 1300],\n",
    "    'min_samples_leaf': [14, 15, 16],\n",
    "    'min_samples_split': [3, 5, 8],\n",
    "    'n_estimators': [75, 100, 125]\n",
    "}\n",
    "print(params)\n",
    "random_forest_opt = GridSearchCV(random_forest, param_grid = params, cv = 3, verbose = 3, n_jobs=-1, scoring='f1') \n",
    "# cv : the number of folds to be used for CV\n",
    "random_forest_opt.fit(X_train, Y_train)\n",
    "print(\"...Done.\")\n",
    "print()\n",
    "get_f1_score(random_forest_opt)"
   ]
  },
  {
   "cell_type": "code",
   "execution_count": 37,
   "metadata": {},
   "outputs": [
    {
     "name": "stdout",
     "output_type": "stream",
     "text": [
      "Best hyperparameters :  {'max_depth': 1200, 'min_samples_leaf': 14, 'min_samples_split': 8, 'n_estimators': 125}\n",
      "Best validation accuracy :  0.7639404198475939\n"
     ]
    }
   ],
   "source": [
    "print(\"Best hyperparameters : \", random_forest_opt.best_params_)\n",
    "print(\"Best validation accuracy : \", random_forest_opt.best_score_)"
   ]
  },
  {
   "cell_type": "code",
   "execution_count": 38,
   "metadata": {},
   "outputs": [
    {
     "name": "stdout",
     "output_type": "stream",
     "text": [
      "RandomForestClassifier\n",
      "f1-score on train set :  0.7733953209358129\n",
      "f1-score on test set :  0.7446744674467446\n",
      "\n",
      "The cross-validated f1 score is :  0.76246159473684\n",
      "The standard deviation is :  0.007319396031508183\n",
      "is this model overfitting ?  False\n"
     ]
    },
    {
     "data": {
      "image/png": "[encoded data removed]",
      "text/plain": [
       "<Figure size 720x360 with 4 Axes>"
      ]
     },
     "metadata": {
      "needs_background": "light"
     },
     "output_type": "display_data"
    },
    {
     "name": "stdout",
     "output_type": "stream",
     "text": [
      "classification_report on Train set\n",
      "              precision    recall  f1-score   support\n",
      "\n",
      "           0       0.99      1.00      0.99    220320\n",
      "           1       0.86      0.70      0.77      7344\n",
      "\n",
      "    accuracy                           0.99    227664\n",
      "   macro avg       0.93      0.85      0.88    227664\n",
      "weighted avg       0.99      0.99      0.99    227664\n",
      "\n",
      "---\n",
      "classification_report on Test set\n",
      "              precision    recall  f1-score   support\n",
      "\n",
      "           0       0.99      1.00      0.99     55080\n",
      "           1       0.83      0.68      0.74      1836\n",
      "\n",
      "    accuracy                           0.99     56916\n",
      "   macro avg       0.91      0.84      0.87     56916\n",
      "weighted avg       0.98      0.99      0.98     56916\n",
      "\n"
     ]
    }
   ],
   "source": [
    "evaluate_performance(random_forest_opt.best_estimator_)"
   ]
  },
  {
   "cell_type": "markdown",
   "metadata": {},
   "source": [
    "## Submission"
   ]
  },
  {
   "cell_type": "code",
   "execution_count": 25,
   "metadata": {},
   "outputs": [],
   "source": [
    "def retrain_and_submit(model, version=1):\n",
    "  print(model)\n",
    "  # Concatenate our train and test set to train your best classifier on all data with labels\n",
    "  X = np.append(X_train,X_test,axis=0)\n",
    "  Y = np.append(Y_train,Y_test)\n",
    "\n",
    "  model.fit(X,Y)\n",
    "\n",
    "  # Read data without labels\n",
    "  data_without_labels = pd.read_csv('data/conversion_data_test.csv')\n",
    "  print('Prediction set (without labels) :', data_without_labels.shape)\n",
    "\n",
    "  # apply the preprocessing\n",
    "  X_without_labels = preprocessor.transform(data_without_labels)\n",
    "  data = {\n",
    "    'converted': model.predict(X_without_labels)\n",
    "  }\n",
    "\n",
    "  Y_predictions = pd.DataFrame(columns=['converted'],data=data)\n",
    "  Y_predictions.to_csv(f'submissions/conversion_data_test_predictions_Alexon_V{version}.csv', index=False)\n",
    "  print('Done ....')"
   ]
  },
  {
   "cell_type": "code",
   "execution_count": 26,
   "metadata": {},
   "outputs": [
    {
     "name": "stdout",
     "output_type": "stream",
     "text": [
      "RandomForestClassifier(max_depth=90, min_samples_leaf=5, min_samples_split=12,\n",
      "                       n_estimators=300)\n",
      "Prediction set (without labels) : (31620, 5)\n",
      "Done ....\n"
     ]
    }
   ],
   "source": [
    "retrain_and_submit(random_forest_opt.best_estimator_, version=16)"
   ]
  },
  {
   "cell_type": "code",
   "execution_count": 39,
   "metadata": {},
   "outputs": [
    {
     "name": "stdout",
     "output_type": "stream",
     "text": [
      "RandomForestClassifier(max_depth=1200, min_samples_leaf=14, min_samples_split=8,\n",
      "                       n_estimators=125)\n",
      "Prediction set (without labels) : (31620, 5)\n",
      "Done ....\n"
     ]
    }
   ],
   "source": [
    "retrain_and_submit(random_forest_opt.best_estimator_, version=20)"
   ]
  },
  {
   "cell_type": "code",
   "execution_count": 40,
   "metadata": {},
   "outputs": [
    {
     "name": "stdout",
     "output_type": "stream",
     "text": [
      "RandomForestClassifier\n",
      "f1-score on train set :  0.7726896759154824\n",
      "f1-score on test set :  0.759843703035768\n"
     ]
    }
   ],
   "source": [
    "get_f1_score(random_forest_opt.best_estimator_)"
   ]
  },
  {
   "cell_type": "code",
   "execution_count": 42,
   "metadata": {},
   "outputs": [],
   "source": [
    "pickle.dump(random_forest_opt.best_estimator_, open('models/random_forest_opt_v_20', 'wb'))"
   ]
  }
 ],
 "metadata": {
  "kernelspec": {
   "display_name": "Python 3.9.12 ('base')",
   "language": "python",
   "name": "python3"
  },
  "language_info": {
   "codemirror_mode": {
    "name": "ipython",
    "version": 3
   },
   "file_extension": ".py",
   "mimetype": "text/x-python",
   "name": "python",
   "nbconvert_exporter": "python",
   "pygments_lexer": "ipython3",
   "version": "3.9.12"
  },
  "orig_nbformat": 4,
  "vscode": {
   "interpreter": {
    "hash": "c766f7c526f554c39534ac5a6b6631b3579ceeff597e65c8c23f9bc665d77d04"
   }
  }
 },
 "nbformat": 4,
 "nbformat_minor": 2
}
